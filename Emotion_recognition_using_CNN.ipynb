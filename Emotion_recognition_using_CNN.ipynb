{
  "nbformat": 4,
  "nbformat_minor": 0,
  "metadata": {
    "colab": {
      "name": "Emotion recognition from brain signals using CNN.ipynb",
      "provenance": [],
      "mount_file_id": "1LeZkrW09ga4HKkeXoMVmHqCiQRZb4BKO",
      "authorship_tag": "ABX9TyO9VNqlKykHC7VfTzDcU+Lp",
      "include_colab_link": true
    },
    "kernelspec": {
      "name": "python3",
      "display_name": "Python 3"
    },
    "accelerator": "GPU"
  },
  "cells": [
    {
      "cell_type": "markdown",
      "metadata": {
        "id": "view-in-github",
        "colab_type": "text"
      },
      "source": [
        "<a href=\"https://colab.research.google.com/github/siddhi5386/Emotion-Recognition-from-brain-EEG-signals-/blob/master/Emotion_recognition_from_brain_signals_using_CNN.ipynb\" target=\"_parent\"><img src=\"https://colab.research.google.com/assets/colab-badge.svg\" alt=\"Open In Colab\"/></a>"
      ]
    },
    {
      "cell_type": "code",
      "metadata": {
        "id": "4ZgJPO-bvo4B",
        "colab_type": "code",
        "colab": {
          "base_uri": "https://localhost:8080/",
          "height": 204
        },
        "outputId": "b90a7a30-2a80-4430-8d64-32b708b5619d"
      },
      "source": [
        "!pip install git+https://github.com/forrestbao/pyeeg.git\n",
        "import numpy as np\n",
        "import pyeeg as pe\n",
        "import pickle as pickle\n",
        "import pandas as pd\n",
        "import math\n",
        "\n",
        "from sklearn import svm\n",
        "from sklearn.preprocessing import normalize\n",
        "\n",
        "import os\n",
        "import time"
      ],
      "execution_count": 1,
      "outputs": [
        {
          "output_type": "stream",
          "text": [
            "Collecting git+https://github.com/forrestbao/pyeeg.git\n",
            "  Cloning https://github.com/forrestbao/pyeeg.git to /tmp/pip-req-build-hgte5n81\n",
            "  Running command git clone -q https://github.com/forrestbao/pyeeg.git /tmp/pip-req-build-hgte5n81\n",
            "Requirement already satisfied: numpy>=1.9.2 in /usr/local/lib/python3.6/dist-packages (from pyeeg==0.4.4) (1.18.5)\n",
            "Building wheels for collected packages: pyeeg\n",
            "  Building wheel for pyeeg (setup.py) ... \u001b[?25l\u001b[?25hdone\n",
            "  Created wheel for pyeeg: filename=pyeeg-0.4.4-py2.py3-none-any.whl size=28121 sha256=a57a66954f4fa0158eaf906cff5ee04408b9c00fbeb8dbc3f3156b67fcf60f02\n",
            "  Stored in directory: /tmp/pip-ephem-wheel-cache-kl4orrwd/wheels/2d/3f/ad/106d4fc80b61d1ea1fc18e76e7439fd98aa043d83d58eae741\n",
            "Successfully built pyeeg\n",
            "Installing collected packages: pyeeg\n",
            "Successfully installed pyeeg-0.4.4\n"
          ],
          "name": "stdout"
        }
      ]
    },
    {
      "cell_type": "code",
      "metadata": {
        "id": "A6V-0VlCv8F3",
        "colab_type": "code",
        "colab": {}
      },
      "source": [
        "import pandas as pd\n",
        "import keras.backend as K\n",
        "import numpy as np\n",
        "import pandas as pd\n",
        "from keras.models import Sequential\n",
        "from keras.layers import Dense\n",
        "from keras.models import Sequential\n",
        "from keras.layers.convolutional import Conv1D\n",
        "from keras.layers.convolutional import MaxPooling1D\n",
        "from keras.utils import to_categorical \n",
        "from keras.layers import Flatten\n",
        "from keras.layers import Dense\n",
        "import numpy as np\n",
        "import keras\n",
        "from keras.datasets import mnist\n",
        "from keras.models import Sequential\n",
        "from keras.layers import Dense, Dropout, Flatten, Conv2D, MaxPooling2D\n",
        "from keras import backend as K\n",
        "from keras.models import Model\n",
        "import timeit\n",
        "from keras.models import Sequential\n",
        "from keras.layers.core import Flatten, Dense, Dropout\n",
        "from keras.layers.convolutional import Convolution1D, MaxPooling1D, ZeroPadding1D\n",
        "from keras.optimizers import SGD\n",
        "#import cv2, numpy as np\n",
        "import warnings\n",
        "warnings.filterwarnings('ignore')"
      ],
      "execution_count": 2,
      "outputs": []
    },
    {
      "cell_type": "code",
      "metadata": {
        "id": "bWlMgzPBwGwF",
        "colab_type": "code",
        "colab": {
          "base_uri": "https://localhost:8080/",
          "height": 126
        },
        "outputId": "4878035f-20a4-44a0-f364-cb0801858022"
      },
      "source": [
        "from google.colab import drive\n",
        "drive.mount('/content/drive/')"
      ],
      "execution_count": null,
      "outputs": [
        {
          "output_type": "stream",
          "text": [
            "Go to this URL in a browser: https://accounts.google.com/o/oauth2/auth?client_id=947318989803-6bn6qk8qdgf4n4g3pfee6491hc0brc4i.apps.googleusercontent.com&redirect_uri=urn%3aietf%3awg%3aoauth%3a2.0%3aoob&scope=email%20https%3a%2f%2fwww.googleapis.com%2fauth%2fdocs.test%20https%3a%2f%2fwww.googleapis.com%2fauth%2fdrive%20https%3a%2f%2fwww.googleapis.com%2fauth%2fdrive.photos.readonly%20https%3a%2f%2fwww.googleapis.com%2fauth%2fpeopleapi.readonly&response_type=code\n",
            "\n",
            "Enter your authorization code:\n",
            "··········\n",
            "Mounted at /content/drive/\n"
          ],
          "name": "stdout"
        }
      ]
    },
    {
      "cell_type": "code",
      "metadata": {
        "id": "JOXuEM0JwJqI",
        "colab_type": "code",
        "colab": {}
      },
      "source": [
        "# data_preprocessed_python\n",
        "os.getcwd()\n",
        "os.chdir('/content/drive/My Drive')"
      ],
      "execution_count": 3,
      "outputs": []
    },
    {
      "cell_type": "code",
      "metadata": {
        "id": "kCMT74t9wowG",
        "colab_type": "code",
        "colab": {}
      },
      "source": [
        "channel = [1,2,3,4,6,11,13,17,19,20,21,25,29,31] #14 Channels chosen to fit Emotiv Epoch+\n",
        "band = [4,8,12,16,25,45] #5 bands\n",
        "window_size = 256 #Averaging band power of 2 sec\n",
        "step_size = 16 #Each 0.125 sec update once\n",
        "sample_rate = 128 #Sampling rate of 128 Hz\n",
        "subjectList = ['01','02','03']\n",
        "#List of subjects"
      ],
      "execution_count": 4,
      "outputs": []
    },
    {
      "cell_type": "code",
      "metadata": {
        "id": "UD-WVHARwsXz",
        "colab_type": "code",
        "colab": {}
      },
      "source": [
        "def FFT_Processing (sub, channel, band, window_size, step_size, sample_rate):\n",
        "    '''\n",
        "    arguments:  string subject\n",
        "                list channel indice\n",
        "                list band\n",
        "                int window size for FFT\n",
        "                int step size for FFT\n",
        "                int sample rate for FFT\n",
        "    return:     void\n",
        "    '''\n",
        "    meta = []\n",
        "    with open(\"/content/drive/My Drive/leading_ai/try/s\" + sub + '.dat', 'rb') as file:\n",
        "\n",
        "        subject = pickle.load(file, encoding='latin1') #resolve the python 2 data problem by encoding : latin1\n",
        "\n",
        "        for i in range (0,40):\n",
        "            # loop over 0-39 trails\n",
        "            data = subject[\"data\"][i]\n",
        "            labels = subject[\"labels\"][i]\n",
        "            start = 0;\n",
        "\n",
        "            while start + window_size < data.shape[1]:\n",
        "                meta_array = []\n",
        "                meta_data = [] #meta vector for analysis\n",
        "                for j in channel:\n",
        "                    X = data[j][start : start + window_size] #Slice raw data over 2 sec, at interval of 0.125 sec\n",
        "                    Y = pe.bin_power(X, band, sample_rate) #FFT over 2 sec of channel j, in seq of theta, alpha, low beta, high beta, gamma\n",
        "                    meta_data = meta_data + list(Y[0])\n",
        "\n",
        "                meta_array.append(np.array(meta_data))\n",
        "                meta_array.append(labels)\n",
        "\n",
        "                meta.append(np.array(meta_array))    \n",
        "                start = start + step_size\n",
        "                \n",
        "        meta = np.array(meta)\n",
        "        np.save('/content/drive/My Drive/leading_ai/try/s' + sub, meta, allow_pickle=True, fix_imports=True)"
      ],
      "execution_count": 5,
      "outputs": []
    },
    {
      "cell_type": "code",
      "metadata": {
        "id": "TWcHt5X2xDfw",
        "colab_type": "code",
        "colab": {}
      },
      "source": [
        "for subjects in subjectList:\n",
        "    FFT_Processing (subjects, channel, band, window_size, step_size, sample_rate)"
      ],
      "execution_count": 6,
      "outputs": []
    },
    {
      "cell_type": "code",
      "metadata": {
        "id": "dM2Bdu7oxIbE",
        "colab_type": "code",
        "colab": {
          "base_uri": "https://localhost:8080/",
          "height": 51
        },
        "outputId": "b9e20249-dae8-490c-d12b-6bda8b63aff4"
      },
      "source": [
        "\n",
        "data_training = []\n",
        "label_training = []\n",
        "data_testing = []\n",
        "label_testing = []\n",
        "\n",
        "for subjects in subjectList:\n",
        "\n",
        "    with open('/content/drive/My Drive/leading_ai/try/s' + subjects + '.npy', 'rb') as file:\n",
        "      sub = np.load(file,allow_pickle=True)\n",
        "      for i in range (0,sub.shape[0]):\n",
        "        if i % 5 == 0:\n",
        "          data_testing.append(sub[i][0])\n",
        "          label_testing.append(sub[i][1])\n",
        "        else:\n",
        "          data_training.append(sub[i][0])\n",
        "          label_training.append(sub[i][1])\n",
        "\n",
        "np.save('/content/drive/My Drive/leading_ai/data_training', np.array(data_training), allow_pickle=True, fix_imports=True)\n",
        "np.save('/content/drive/My Drive/leading_ai/label_training', np.array(label_training), allow_pickle=True, fix_imports=True)\n",
        "print(\"training dataset:\", np.array(data_training).shape, np.array(label_training).shape)\n",
        "\n",
        "np.save('/content/drive/My Drive/leading_ai/data_testing', np.array(data_testing), allow_pickle=True, fix_imports=True)\n",
        "np.save('/content/drive/My Drive/leading_ai/label_testing', np.array(label_testing), allow_pickle=True, fix_imports=True)\n",
        "print(\"testing dataset:\", np.array(data_testing).shape, np.array(label_testing).shape)"
      ],
      "execution_count": 7,
      "outputs": [
        {
          "output_type": "stream",
          "text": [
            "training dataset: (46848, 70) (46848, 4)\n",
            "testing dataset: (11712, 70) (11712, 4)\n"
          ],
          "name": "stdout"
        }
      ]
    },
    {
      "cell_type": "code",
      "metadata": {
        "id": "pnNNgiBN_HcS",
        "colab_type": "code",
        "colab": {}
      },
      "source": [
        "\n",
        "with open('/content/drive/My Drive/leading_ai/data_training.npy', 'rb') as fileTrain:\n",
        "    X  = np.load(fileTrain)\n",
        "    \n",
        "with open('/content/drive/My Drive/leading_ai/label_training.npy', 'rb') as fileTrainL:\n",
        "    Y  = np.load(fileTrainL)\n",
        "    \n",
        "X = normalize(X)\n",
        "Z = np.ravel(Y[:, [3]])\n",
        "\n",
        "Arousal_Train = np.ravel(Y[:, [0]])\n",
        "Valence_Train = np.ravel(Y[:, [1]])\n",
        "Domain_Train = np.ravel(Y[:, [2]])\n",
        "Like_Train = np.ravel(Y[:, [3]])"
      ],
      "execution_count": 73,
      "outputs": []
    },
    {
      "cell_type": "code",
      "metadata": {
        "id": "O-kXkIKo_3eY",
        "colab_type": "code",
        "colab": {
          "base_uri": "https://localhost:8080/",
          "height": 34
        },
        "outputId": "2203a618-1308-424a-a361-9d0f4ed39424"
      },
      "source": [
        "X.shape"
      ],
      "execution_count": 74,
      "outputs": [
        {
          "output_type": "execute_result",
          "data": {
            "text/plain": [
              "(46848, 70)"
            ]
          },
          "metadata": {
            "tags": []
          },
          "execution_count": 74
        }
      ]
    },
    {
      "cell_type": "code",
      "metadata": {
        "id": "u7QbIvJF_7YH",
        "colab_type": "code",
        "colab": {
          "base_uri": "https://localhost:8080/",
          "height": 136
        },
        "outputId": "4338dfe0-99c3-42ac-8198-4b731f16ee9b"
      },
      "source": [
        "from keras.utils import to_categorical\n",
        "y_train = to_categorical(Z)\n",
        "y_train"
      ],
      "execution_count": 75,
      "outputs": [
        {
          "output_type": "execute_result",
          "data": {
            "text/plain": [
              "array([[0., 0., 0., ..., 1., 0., 0.],\n",
              "       [0., 0., 0., ..., 1., 0., 0.],\n",
              "       [0., 0., 0., ..., 1., 0., 0.],\n",
              "       ...,\n",
              "       [0., 0., 0., ..., 0., 0., 0.],\n",
              "       [0., 0., 0., ..., 0., 0., 0.],\n",
              "       [0., 0., 0., ..., 0., 0., 0.]], dtype=float32)"
            ]
          },
          "metadata": {
            "tags": []
          },
          "execution_count": 75
        }
      ]
    },
    {
      "cell_type": "code",
      "metadata": {
        "id": "vz6DyN6i4Ten",
        "colab_type": "code",
        "colab": {
          "base_uri": "https://localhost:8080/",
          "height": 34
        },
        "outputId": "7b13e53b-8d4f-4901-da25-f45c3bfc5c67"
      },
      "source": [
        "y_train.shape"
      ],
      "execution_count": 76,
      "outputs": [
        {
          "output_type": "execute_result",
          "data": {
            "text/plain": [
              "(46848, 10)"
            ]
          },
          "metadata": {
            "tags": []
          },
          "execution_count": 76
        }
      ]
    },
    {
      "cell_type": "code",
      "metadata": {
        "id": "n2nbzExFABT9",
        "colab_type": "code",
        "colab": {}
      },
      "source": [
        "x_train = np.array(X[:])"
      ],
      "execution_count": 77,
      "outputs": []
    },
    {
      "cell_type": "code",
      "metadata": {
        "id": "ooCmmlGRAFkv",
        "colab_type": "code",
        "colab": {}
      },
      "source": [
        "\n",
        "with open('/content/drive/My Drive/leading_ai/data_testing.npy', 'rb') as fileTrain:\n",
        "    M  = np.load(fileTrain)\n",
        "    \n",
        "with open('/content/drive/My Drive/leading_ai/label_testing.npy', 'rb') as fileTrainL:\n",
        "    N  = np.load(fileTrainL)\n",
        "\n",
        "M = normalize(M)\n",
        "L = np.ravel(N[:, [3]])\n",
        "\n",
        "Arousal_Test = np.ravel(N[:, [0]])\n",
        "Valence_Test = np.ravel(N[:, [1]])\n",
        "Domain_Test = np.ravel(N[:, [2]])\n",
        "Like_Test = np.ravel(N[:, [3]])"
      ],
      "execution_count": 78,
      "outputs": []
    },
    {
      "cell_type": "code",
      "metadata": {
        "id": "m4sxtvpQAOhK",
        "colab_type": "code",
        "colab": {}
      },
      "source": [
        "x_test = np.array(M[:])"
      ],
      "execution_count": 79,
      "outputs": []
    },
    {
      "cell_type": "code",
      "metadata": {
        "id": "r2RKm9KgASb4",
        "colab_type": "code",
        "colab": {
          "base_uri": "https://localhost:8080/",
          "height": 136
        },
        "outputId": "e492f6fa-ef9b-43c6-bfac-57993ddb11ba"
      },
      "source": [
        "from keras.utils import to_categorical\n",
        "y_test = to_categorical(L)\n",
        "y_test"
      ],
      "execution_count": 80,
      "outputs": [
        {
          "output_type": "execute_result",
          "data": {
            "text/plain": [
              "array([[0., 0., 0., ..., 1., 0., 0.],\n",
              "       [0., 0., 0., ..., 1., 0., 0.],\n",
              "       [0., 0., 0., ..., 1., 0., 0.],\n",
              "       ...,\n",
              "       [0., 0., 0., ..., 0., 0., 0.],\n",
              "       [0., 0., 0., ..., 0., 0., 0.],\n",
              "       [0., 0., 0., ..., 0., 0., 0.]], dtype=float32)"
            ]
          },
          "metadata": {
            "tags": []
          },
          "execution_count": 80
        }
      ]
    },
    {
      "cell_type": "code",
      "metadata": {
        "id": "UmwAfzADsRe1",
        "colab_type": "code",
        "colab": {
          "base_uri": "https://localhost:8080/",
          "height": 34
        },
        "outputId": "42cae56a-6847-4610-b4ca-f967a33ebaf7"
      },
      "source": [
        "y_test[1]"
      ],
      "execution_count": 81,
      "outputs": [
        {
          "output_type": "execute_result",
          "data": {
            "text/plain": [
              "array([0., 0., 0., 0., 0., 0., 0., 1., 0., 0.], dtype=float32)"
            ]
          },
          "metadata": {
            "tags": []
          },
          "execution_count": 81
        }
      ]
    },
    {
      "cell_type": "code",
      "metadata": {
        "id": "rKnp-c5EAVGJ",
        "colab_type": "code",
        "colab": {}
      },
      "source": [
        "from sklearn.preprocessing import StandardScaler\n",
        "scaler = StandardScaler()\n",
        "x_train = scaler.fit_transform(x_train)\n",
        "x_test = scaler.fit_transform(x_test)"
      ],
      "execution_count": 82,
      "outputs": []
    },
    {
      "cell_type": "code",
      "metadata": {
        "id": "WC6VSZLUBCiS",
        "colab_type": "code",
        "colab": {}
      },
      "source": [
        "x_train = x_train.reshape(x_train.shape[0],x_train.shape[1], 1)\n",
        "x_test = x_test.reshape(x_test.shape[0],x_test.shape[1], 1)"
      ],
      "execution_count": 83,
      "outputs": []
    },
    {
      "cell_type": "code",
      "metadata": {
        "id": "F3CYMY96BE0i",
        "colab_type": "code",
        "colab": {
          "base_uri": "https://localhost:8080/",
          "height": 34
        },
        "outputId": "56f151e1-4601-484d-83d8-00feb04b6932"
      },
      "source": [
        "x_train.shape"
      ],
      "execution_count": 84,
      "outputs": [
        {
          "output_type": "execute_result",
          "data": {
            "text/plain": [
              "(46848, 70, 1)"
            ]
          },
          "metadata": {
            "tags": []
          },
          "execution_count": 84
        }
      ]
    },
    {
      "cell_type": "code",
      "metadata": {
        "id": "V8NOrABgBWzf",
        "colab_type": "code",
        "colab": {}
      },
      "source": [
        "batch_size = 256\n",
        "num_classes = 10\n",
        "epochs = 200\n",
        "input_shape=(x_train.shape[1], 1)"
      ],
      "execution_count": 85,
      "outputs": []
    },
    {
      "cell_type": "code",
      "metadata": {
        "id": "_W9u_IH6BaaS",
        "colab_type": "code",
        "colab": {
          "base_uri": "https://localhost:8080/",
          "height": 34
        },
        "outputId": "f3bd44bf-863c-4f50-9cca-82d8c6b4a857"
      },
      "source": [
        "print(input_shape)"
      ],
      "execution_count": 86,
      "outputs": [
        {
          "output_type": "stream",
          "text": [
            "(70, 1)\n"
          ],
          "name": "stdout"
        }
      ]
    },
    {
      "cell_type": "code",
      "metadata": {
        "id": "FrpmQ4QWBc4_",
        "colab_type": "code",
        "colab": {}
      },
      "source": [
        "from keras.layers import Convolution1D, ZeroPadding1D, MaxPooling1D, BatchNormalization, Activation, Dropout, Flatten, Dense\n",
        "from keras.regularizers import l2"
      ],
      "execution_count": 87,
      "outputs": []
    },
    {
      "cell_type": "code",
      "metadata": {
        "id": "2B1ezppYCOhJ",
        "colab_type": "code",
        "colab": {
          "base_uri": "https://localhost:8080/",
          "height": 697
        },
        "outputId": "4e549dc4-47cf-4ea0-f862-a795257f375b"
      },
      "source": [
        "model = Sequential()\n",
        "intput_shape=(x_train.shape[1], 1)\n",
        "model.add(Conv1D(128, kernel_size=3,padding = 'same',activation='relu', input_shape=input_shape))\n",
        "model.add(BatchNormalization())\n",
        "model.add(MaxPooling1D(pool_size=(2)))\n",
        "model.add(Conv1D(128,kernel_size=3,padding = 'same', activation='relu'))\n",
        "model.add(BatchNormalization())\n",
        "model.add(MaxPooling1D(pool_size=(2)))\n",
        "model.add(Conv1D(64,kernel_size=3,padding = 'same', activation='relu'))\n",
        "model.add(MaxPooling1D(pool_size=(2)))\n",
        "model.add(Flatten())\n",
        "model.add(Dense(64, activation='tanh'))\n",
        "model.add(Dropout(0.2))\n",
        "model.add(Dense(32, activation='tanh'))\n",
        "model.add(Dropout(0.2))\n",
        "model.add(Dense(16, activation='relu'))\n",
        "model.add(Dropout(0.2))\n",
        "model.add(Dense(num_classes, activation='softmax'))\n",
        "model.summary()"
      ],
      "execution_count": 88,
      "outputs": [
        {
          "output_type": "stream",
          "text": [
            "Model: \"sequential_3\"\n",
            "_________________________________________________________________\n",
            "Layer (type)                 Output Shape              Param #   \n",
            "=================================================================\n",
            "conv1d_9 (Conv1D)            (None, 70, 128)           512       \n",
            "_________________________________________________________________\n",
            "batch_normalization_6 (Batch (None, 70, 128)           512       \n",
            "_________________________________________________________________\n",
            "max_pooling1d_9 (MaxPooling1 (None, 35, 128)           0         \n",
            "_________________________________________________________________\n",
            "conv1d_10 (Conv1D)           (None, 35, 128)           49280     \n",
            "_________________________________________________________________\n",
            "batch_normalization_7 (Batch (None, 35, 128)           512       \n",
            "_________________________________________________________________\n",
            "max_pooling1d_10 (MaxPooling (None, 17, 128)           0         \n",
            "_________________________________________________________________\n",
            "conv1d_11 (Conv1D)           (None, 17, 64)            24640     \n",
            "_________________________________________________________________\n",
            "max_pooling1d_11 (MaxPooling (None, 8, 64)             0         \n",
            "_________________________________________________________________\n",
            "flatten_3 (Flatten)          (None, 512)               0         \n",
            "_________________________________________________________________\n",
            "dense_12 (Dense)             (None, 64)                32832     \n",
            "_________________________________________________________________\n",
            "dropout_9 (Dropout)          (None, 64)                0         \n",
            "_________________________________________________________________\n",
            "dense_13 (Dense)             (None, 32)                2080      \n",
            "_________________________________________________________________\n",
            "dropout_10 (Dropout)         (None, 32)                0         \n",
            "_________________________________________________________________\n",
            "dense_14 (Dense)             (None, 16)                528       \n",
            "_________________________________________________________________\n",
            "dropout_11 (Dropout)         (None, 16)                0         \n",
            "_________________________________________________________________\n",
            "dense_15 (Dense)             (None, 10)                170       \n",
            "=================================================================\n",
            "Total params: 111,066\n",
            "Trainable params: 110,554\n",
            "Non-trainable params: 512\n",
            "_________________________________________________________________\n"
          ],
          "name": "stdout"
        }
      ]
    },
    {
      "cell_type": "code",
      "metadata": {
        "id": "A7abBpBSCY-o",
        "colab_type": "code",
        "colab": {}
      },
      "source": [
        "model.compile(loss=keras.losses.categorical_crossentropy,\n",
        "              optimizer='adam',\n",
        "              metrics=['accuracy'])"
      ],
      "execution_count": 89,
      "outputs": []
    },
    {
      "cell_type": "code",
      "metadata": {
        "id": "vaZ4RPIqCfYF",
        "colab_type": "code",
        "colab": {
          "base_uri": "https://localhost:8080/",
          "height": 1000
        },
        "outputId": "1aa93983-a0ea-4b70-b739-2ca6787db588"
      },
      "source": [
        "history=model.fit(x_train, y_train,\n",
        "          batch_size=batch_size,\n",
        "          epochs=epochs,  \n",
        "          verbose=1,validation_data=(x_test,y_test))"
      ],
      "execution_count": 90,
      "outputs": [
        {
          "output_type": "stream",
          "text": [
            "Epoch 1/200\n",
            "183/183 [==============================] - 2s 10ms/step - loss: 1.6859 - accuracy: 0.3247 - val_loss: 1.8223 - val_accuracy: 0.2357\n",
            "Epoch 2/200\n",
            "183/183 [==============================] - 2s 9ms/step - loss: 1.4895 - accuracy: 0.3931 - val_loss: 1.4592 - val_accuracy: 0.3817\n",
            "Epoch 3/200\n",
            "183/183 [==============================] - 2s 9ms/step - loss: 1.3964 - accuracy: 0.4376 - val_loss: 1.2789 - val_accuracy: 0.4924\n",
            "Epoch 4/200\n",
            "183/183 [==============================] - 2s 9ms/step - loss: 1.3185 - accuracy: 0.4723 - val_loss: 1.1832 - val_accuracy: 0.5314\n",
            "Epoch 5/200\n",
            "183/183 [==============================] - 2s 9ms/step - loss: 1.2495 - accuracy: 0.5021 - val_loss: 1.1358 - val_accuracy: 0.5451\n",
            "Epoch 6/200\n",
            "183/183 [==============================] - 2s 9ms/step - loss: 1.1834 - accuracy: 0.5331 - val_loss: 1.0372 - val_accuracy: 0.5891\n",
            "Epoch 7/200\n",
            "183/183 [==============================] - 2s 9ms/step - loss: 1.1223 - accuracy: 0.5544 - val_loss: 0.9838 - val_accuracy: 0.6073\n",
            "Epoch 8/200\n",
            "183/183 [==============================] - 2s 9ms/step - loss: 1.0604 - accuracy: 0.5809 - val_loss: 0.9324 - val_accuracy: 0.6263\n",
            "Epoch 9/200\n",
            "183/183 [==============================] - 2s 9ms/step - loss: 1.0193 - accuracy: 0.5996 - val_loss: 0.9072 - val_accuracy: 0.6411\n",
            "Epoch 10/200\n",
            "183/183 [==============================] - 2s 9ms/step - loss: 0.9722 - accuracy: 0.6189 - val_loss: 0.8477 - val_accuracy: 0.6674\n",
            "Epoch 11/200\n",
            "183/183 [==============================] - 2s 9ms/step - loss: 0.9304 - accuracy: 0.6340 - val_loss: 0.8020 - val_accuracy: 0.6825\n",
            "Epoch 12/200\n",
            "183/183 [==============================] - 2s 9ms/step - loss: 0.8882 - accuracy: 0.6522 - val_loss: 0.7806 - val_accuracy: 0.6885\n",
            "Epoch 13/200\n",
            "183/183 [==============================] - 2s 9ms/step - loss: 0.8645 - accuracy: 0.6608 - val_loss: 0.7550 - val_accuracy: 0.6944\n",
            "Epoch 14/200\n",
            "183/183 [==============================] - 2s 9ms/step - loss: 0.8265 - accuracy: 0.6752 - val_loss: 0.7461 - val_accuracy: 0.7036\n",
            "Epoch 15/200\n",
            "183/183 [==============================] - 2s 9ms/step - loss: 0.8042 - accuracy: 0.6867 - val_loss: 0.7219 - val_accuracy: 0.7206\n",
            "Epoch 16/200\n",
            "183/183 [==============================] - 2s 9ms/step - loss: 0.7762 - accuracy: 0.6984 - val_loss: 0.7097 - val_accuracy: 0.7176\n",
            "Epoch 17/200\n",
            "183/183 [==============================] - 2s 9ms/step - loss: 0.7503 - accuracy: 0.7071 - val_loss: 0.6849 - val_accuracy: 0.7290\n",
            "Epoch 18/200\n",
            "183/183 [==============================] - 2s 9ms/step - loss: 0.7382 - accuracy: 0.7140 - val_loss: 0.6641 - val_accuracy: 0.7375\n",
            "Epoch 19/200\n",
            "183/183 [==============================] - 2s 9ms/step - loss: 0.7099 - accuracy: 0.7245 - val_loss: 0.6595 - val_accuracy: 0.7452\n",
            "Epoch 20/200\n",
            "183/183 [==============================] - 2s 9ms/step - loss: 0.6912 - accuracy: 0.7319 - val_loss: 0.6564 - val_accuracy: 0.7463\n",
            "Epoch 21/200\n",
            "183/183 [==============================] - 2s 9ms/step - loss: 0.6816 - accuracy: 0.7360 - val_loss: 0.6411 - val_accuracy: 0.7534\n",
            "Epoch 22/200\n",
            "183/183 [==============================] - 2s 9ms/step - loss: 0.6781 - accuracy: 0.7390 - val_loss: 0.6477 - val_accuracy: 0.7456\n",
            "Epoch 23/200\n",
            "183/183 [==============================] - 2s 9ms/step - loss: 0.6583 - accuracy: 0.7460 - val_loss: 0.6063 - val_accuracy: 0.7607\n",
            "Epoch 24/200\n",
            "183/183 [==============================] - 2s 9ms/step - loss: 0.6418 - accuracy: 0.7511 - val_loss: 0.6108 - val_accuracy: 0.7620\n",
            "Epoch 25/200\n",
            "183/183 [==============================] - 2s 9ms/step - loss: 0.6296 - accuracy: 0.7534 - val_loss: 0.5929 - val_accuracy: 0.7676\n",
            "Epoch 26/200\n",
            "183/183 [==============================] - 2s 9ms/step - loss: 0.6264 - accuracy: 0.7585 - val_loss: 0.6266 - val_accuracy: 0.7590\n",
            "Epoch 27/200\n",
            "183/183 [==============================] - 2s 9ms/step - loss: 0.6147 - accuracy: 0.7623 - val_loss: 0.5766 - val_accuracy: 0.7791\n",
            "Epoch 28/200\n",
            "183/183 [==============================] - 2s 9ms/step - loss: 0.5907 - accuracy: 0.7724 - val_loss: 0.6039 - val_accuracy: 0.7710\n",
            "Epoch 29/200\n",
            "183/183 [==============================] - 2s 9ms/step - loss: 0.5894 - accuracy: 0.7742 - val_loss: 0.5894 - val_accuracy: 0.7740\n",
            "Epoch 30/200\n",
            "183/183 [==============================] - 2s 9ms/step - loss: 0.5808 - accuracy: 0.7740 - val_loss: 0.6022 - val_accuracy: 0.7751\n",
            "Epoch 31/200\n",
            "183/183 [==============================] - 2s 9ms/step - loss: 0.5775 - accuracy: 0.7772 - val_loss: 0.5689 - val_accuracy: 0.7853\n",
            "Epoch 32/200\n",
            "183/183 [==============================] - 2s 9ms/step - loss: 0.5593 - accuracy: 0.7849 - val_loss: 0.5673 - val_accuracy: 0.7830\n",
            "Epoch 33/200\n",
            "183/183 [==============================] - 2s 9ms/step - loss: 0.5607 - accuracy: 0.7825 - val_loss: 0.5799 - val_accuracy: 0.7775\n",
            "Epoch 34/200\n",
            "183/183 [==============================] - 2s 9ms/step - loss: 0.5453 - accuracy: 0.7889 - val_loss: 0.5461 - val_accuracy: 0.7897\n",
            "Epoch 35/200\n",
            "183/183 [==============================] - 2s 9ms/step - loss: 0.5485 - accuracy: 0.7876 - val_loss: 0.5613 - val_accuracy: 0.7885\n",
            "Epoch 36/200\n",
            "183/183 [==============================] - 2s 9ms/step - loss: 0.5375 - accuracy: 0.7929 - val_loss: 0.5425 - val_accuracy: 0.7951\n",
            "Epoch 37/200\n",
            "183/183 [==============================] - 2s 9ms/step - loss: 0.5338 - accuracy: 0.7946 - val_loss: 0.5740 - val_accuracy: 0.7890\n",
            "Epoch 38/200\n",
            "183/183 [==============================] - 2s 9ms/step - loss: 0.5172 - accuracy: 0.7991 - val_loss: 0.5564 - val_accuracy: 0.7921\n",
            "Epoch 39/200\n",
            "183/183 [==============================] - 2s 9ms/step - loss: 0.5169 - accuracy: 0.7995 - val_loss: 0.5331 - val_accuracy: 0.7992\n",
            "Epoch 40/200\n",
            "183/183 [==============================] - 2s 9ms/step - loss: 0.5204 - accuracy: 0.8010 - val_loss: 0.5261 - val_accuracy: 0.8011\n",
            "Epoch 41/200\n",
            "183/183 [==============================] - 2s 9ms/step - loss: 0.5091 - accuracy: 0.8042 - val_loss: 0.5454 - val_accuracy: 0.7963\n",
            "Epoch 42/200\n",
            "183/183 [==============================] - 2s 9ms/step - loss: 0.5028 - accuracy: 0.8061 - val_loss: 0.5413 - val_accuracy: 0.7977\n",
            "Epoch 43/200\n",
            "183/183 [==============================] - 2s 9ms/step - loss: 0.5044 - accuracy: 0.8071 - val_loss: 0.5279 - val_accuracy: 0.8013\n",
            "Epoch 44/200\n",
            "183/183 [==============================] - 2s 9ms/step - loss: 0.4872 - accuracy: 0.8141 - val_loss: 0.5270 - val_accuracy: 0.8048\n",
            "Epoch 45/200\n",
            "183/183 [==============================] - 2s 9ms/step - loss: 0.4855 - accuracy: 0.8136 - val_loss: 0.5157 - val_accuracy: 0.8081\n",
            "Epoch 46/200\n",
            "183/183 [==============================] - 2s 9ms/step - loss: 0.4806 - accuracy: 0.8155 - val_loss: 0.5332 - val_accuracy: 0.8069\n",
            "Epoch 47/200\n",
            "183/183 [==============================] - 2s 9ms/step - loss: 0.4786 - accuracy: 0.8163 - val_loss: 0.5202 - val_accuracy: 0.8071\n",
            "Epoch 48/200\n",
            "183/183 [==============================] - 2s 9ms/step - loss: 0.4798 - accuracy: 0.8160 - val_loss: 0.5031 - val_accuracy: 0.8145\n",
            "Epoch 49/200\n",
            "183/183 [==============================] - 2s 9ms/step - loss: 0.4652 - accuracy: 0.8228 - val_loss: 0.5350 - val_accuracy: 0.8081\n",
            "Epoch 50/200\n",
            "183/183 [==============================] - 2s 9ms/step - loss: 0.4693 - accuracy: 0.8198 - val_loss: 0.4907 - val_accuracy: 0.8174\n",
            "Epoch 51/200\n",
            "183/183 [==============================] - 2s 9ms/step - loss: 0.4613 - accuracy: 0.8233 - val_loss: 0.5179 - val_accuracy: 0.8128\n",
            "Epoch 52/200\n",
            "183/183 [==============================] - 2s 9ms/step - loss: 0.4522 - accuracy: 0.8273 - val_loss: 0.5121 - val_accuracy: 0.8168\n",
            "Epoch 53/200\n",
            "183/183 [==============================] - 2s 9ms/step - loss: 0.4525 - accuracy: 0.8285 - val_loss: 0.5340 - val_accuracy: 0.8088\n",
            "Epoch 54/200\n",
            "183/183 [==============================] - 2s 9ms/step - loss: 0.4554 - accuracy: 0.8271 - val_loss: 0.5155 - val_accuracy: 0.8146\n",
            "Epoch 55/200\n",
            "183/183 [==============================] - 2s 9ms/step - loss: 0.4498 - accuracy: 0.8290 - val_loss: 0.5071 - val_accuracy: 0.8227\n",
            "Epoch 56/200\n",
            "183/183 [==============================] - 2s 9ms/step - loss: 0.4439 - accuracy: 0.8317 - val_loss: 0.5447 - val_accuracy: 0.8067\n",
            "Epoch 57/200\n",
            "183/183 [==============================] - 2s 9ms/step - loss: 0.4387 - accuracy: 0.8316 - val_loss: 0.5100 - val_accuracy: 0.8183\n",
            "Epoch 58/200\n",
            "183/183 [==============================] - 2s 9ms/step - loss: 0.4407 - accuracy: 0.8335 - val_loss: 0.5101 - val_accuracy: 0.8179\n",
            "Epoch 59/200\n",
            "183/183 [==============================] - 2s 9ms/step - loss: 0.4308 - accuracy: 0.8362 - val_loss: 0.4943 - val_accuracy: 0.8260\n",
            "Epoch 60/200\n",
            "183/183 [==============================] - 2s 9ms/step - loss: 0.4259 - accuracy: 0.8386 - val_loss: 0.4948 - val_accuracy: 0.8286\n",
            "Epoch 61/200\n",
            "183/183 [==============================] - 2s 9ms/step - loss: 0.4299 - accuracy: 0.8395 - val_loss: 0.5171 - val_accuracy: 0.8195\n",
            "Epoch 62/200\n",
            "183/183 [==============================] - 2s 9ms/step - loss: 0.4261 - accuracy: 0.8396 - val_loss: 0.5163 - val_accuracy: 0.8163\n",
            "Epoch 63/200\n",
            "183/183 [==============================] - 2s 9ms/step - loss: 0.4222 - accuracy: 0.8420 - val_loss: 0.4895 - val_accuracy: 0.8274\n",
            "Epoch 64/200\n",
            "183/183 [==============================] - 2s 9ms/step - loss: 0.4130 - accuracy: 0.8437 - val_loss: 0.4928 - val_accuracy: 0.8280\n",
            "Epoch 65/200\n",
            "183/183 [==============================] - 2s 9ms/step - loss: 0.4076 - accuracy: 0.8464 - val_loss: 0.5063 - val_accuracy: 0.8280\n",
            "Epoch 66/200\n",
            "183/183 [==============================] - 2s 9ms/step - loss: 0.4145 - accuracy: 0.8448 - val_loss: 0.5040 - val_accuracy: 0.8229\n",
            "Epoch 67/200\n",
            "183/183 [==============================] - 2s 9ms/step - loss: 0.4212 - accuracy: 0.8416 - val_loss: 0.4853 - val_accuracy: 0.8274\n",
            "Epoch 68/200\n",
            "183/183 [==============================] - 2s 9ms/step - loss: 0.4012 - accuracy: 0.8489 - val_loss: 0.5318 - val_accuracy: 0.8171\n",
            "Epoch 69/200\n",
            "183/183 [==============================] - 2s 9ms/step - loss: 0.3950 - accuracy: 0.8512 - val_loss: 0.4928 - val_accuracy: 0.8350\n",
            "Epoch 70/200\n",
            "183/183 [==============================] - 2s 9ms/step - loss: 0.3986 - accuracy: 0.8496 - val_loss: 0.4748 - val_accuracy: 0.8370\n",
            "Epoch 71/200\n",
            "183/183 [==============================] - 2s 9ms/step - loss: 0.3916 - accuracy: 0.8543 - val_loss: 0.4781 - val_accuracy: 0.8316\n",
            "Epoch 72/200\n",
            "183/183 [==============================] - 2s 9ms/step - loss: 0.3937 - accuracy: 0.8533 - val_loss: 0.4861 - val_accuracy: 0.8336\n",
            "Epoch 73/200\n",
            "183/183 [==============================] - 2s 9ms/step - loss: 0.3957 - accuracy: 0.8518 - val_loss: 0.4917 - val_accuracy: 0.8332\n",
            "Epoch 74/200\n",
            "183/183 [==============================] - 2s 9ms/step - loss: 0.4010 - accuracy: 0.8493 - val_loss: 0.4845 - val_accuracy: 0.8343\n",
            "Epoch 75/200\n",
            "183/183 [==============================] - 2s 9ms/step - loss: 0.3803 - accuracy: 0.8575 - val_loss: 0.4859 - val_accuracy: 0.8349\n",
            "Epoch 76/200\n",
            "183/183 [==============================] - 2s 9ms/step - loss: 0.3850 - accuracy: 0.8558 - val_loss: 0.4792 - val_accuracy: 0.8349\n",
            "Epoch 77/200\n",
            "183/183 [==============================] - 2s 9ms/step - loss: 0.3760 - accuracy: 0.8599 - val_loss: 0.5033 - val_accuracy: 0.8359\n",
            "Epoch 78/200\n",
            "183/183 [==============================] - 2s 9ms/step - loss: 0.3797 - accuracy: 0.8589 - val_loss: 0.4769 - val_accuracy: 0.8386\n",
            "Epoch 79/200\n",
            "183/183 [==============================] - 2s 9ms/step - loss: 0.3789 - accuracy: 0.8601 - val_loss: 0.5022 - val_accuracy: 0.8306\n",
            "Epoch 80/200\n",
            "183/183 [==============================] - 2s 9ms/step - loss: 0.3718 - accuracy: 0.8619 - val_loss: 0.4850 - val_accuracy: 0.8413\n",
            "Epoch 81/200\n",
            "183/183 [==============================] - 2s 9ms/step - loss: 0.3710 - accuracy: 0.8619 - val_loss: 0.4752 - val_accuracy: 0.8385\n",
            "Epoch 82/200\n",
            "183/183 [==============================] - 2s 9ms/step - loss: 0.3712 - accuracy: 0.8618 - val_loss: 0.4727 - val_accuracy: 0.8388\n",
            "Epoch 83/200\n",
            "183/183 [==============================] - 2s 9ms/step - loss: 0.3700 - accuracy: 0.8618 - val_loss: 0.4817 - val_accuracy: 0.8402\n",
            "Epoch 84/200\n",
            "183/183 [==============================] - 2s 9ms/step - loss: 0.3648 - accuracy: 0.8652 - val_loss: 0.4766 - val_accuracy: 0.8414\n",
            "Epoch 85/200\n",
            "183/183 [==============================] - 2s 9ms/step - loss: 0.3640 - accuracy: 0.8638 - val_loss: 0.4755 - val_accuracy: 0.8429\n",
            "Epoch 86/200\n",
            "183/183 [==============================] - 2s 9ms/step - loss: 0.3650 - accuracy: 0.8630 - val_loss: 0.4731 - val_accuracy: 0.8441\n",
            "Epoch 87/200\n",
            "183/183 [==============================] - 2s 9ms/step - loss: 0.3646 - accuracy: 0.8650 - val_loss: 0.4816 - val_accuracy: 0.8364\n",
            "Epoch 88/200\n",
            "183/183 [==============================] - 2s 9ms/step - loss: 0.3459 - accuracy: 0.8737 - val_loss: 0.4662 - val_accuracy: 0.8444\n",
            "Epoch 89/200\n",
            "183/183 [==============================] - 2s 9ms/step - loss: 0.3590 - accuracy: 0.8687 - val_loss: 0.5028 - val_accuracy: 0.8373\n",
            "Epoch 90/200\n",
            "183/183 [==============================] - 2s 9ms/step - loss: 0.3623 - accuracy: 0.8668 - val_loss: 0.4833 - val_accuracy: 0.8458\n",
            "Epoch 91/200\n",
            "183/183 [==============================] - 2s 9ms/step - loss: 0.3502 - accuracy: 0.8711 - val_loss: 0.4753 - val_accuracy: 0.8513\n",
            "Epoch 92/200\n",
            "183/183 [==============================] - 2s 9ms/step - loss: 0.3518 - accuracy: 0.8703 - val_loss: 0.4777 - val_accuracy: 0.8431\n",
            "Epoch 93/200\n",
            "183/183 [==============================] - 2s 9ms/step - loss: 0.3542 - accuracy: 0.8683 - val_loss: 0.4838 - val_accuracy: 0.8467\n",
            "Epoch 94/200\n",
            "183/183 [==============================] - 2s 9ms/step - loss: 0.3485 - accuracy: 0.8717 - val_loss: 0.4808 - val_accuracy: 0.8447\n",
            "Epoch 95/200\n",
            "183/183 [==============================] - 2s 9ms/step - loss: 0.3472 - accuracy: 0.8723 - val_loss: 0.4960 - val_accuracy: 0.8408\n",
            "Epoch 96/200\n",
            "183/183 [==============================] - 2s 9ms/step - loss: 0.3496 - accuracy: 0.8711 - val_loss: 0.4679 - val_accuracy: 0.8496\n",
            "Epoch 97/200\n",
            "183/183 [==============================] - 2s 9ms/step - loss: 0.3434 - accuracy: 0.8720 - val_loss: 0.4941 - val_accuracy: 0.8397\n",
            "Epoch 98/200\n",
            "183/183 [==============================] - 2s 9ms/step - loss: 0.3389 - accuracy: 0.8768 - val_loss: 0.4603 - val_accuracy: 0.8503\n",
            "Epoch 99/200\n",
            "183/183 [==============================] - 2s 9ms/step - loss: 0.3329 - accuracy: 0.8773 - val_loss: 0.4914 - val_accuracy: 0.8385\n",
            "Epoch 100/200\n",
            "183/183 [==============================] - 2s 9ms/step - loss: 0.3413 - accuracy: 0.8743 - val_loss: 0.5028 - val_accuracy: 0.8465\n",
            "Epoch 101/200\n",
            "183/183 [==============================] - 2s 9ms/step - loss: 0.3378 - accuracy: 0.8773 - val_loss: 0.4954 - val_accuracy: 0.8464\n",
            "Epoch 102/200\n",
            "183/183 [==============================] - 2s 9ms/step - loss: 0.3334 - accuracy: 0.8773 - val_loss: 0.4619 - val_accuracy: 0.8572\n",
            "Epoch 103/200\n",
            "183/183 [==============================] - 2s 9ms/step - loss: 0.3312 - accuracy: 0.8799 - val_loss: 0.4558 - val_accuracy: 0.8540\n",
            "Epoch 104/200\n",
            "183/183 [==============================] - 2s 9ms/step - loss: 0.3343 - accuracy: 0.8781 - val_loss: 0.4748 - val_accuracy: 0.8511\n",
            "Epoch 105/200\n",
            "183/183 [==============================] - 2s 9ms/step - loss: 0.3234 - accuracy: 0.8811 - val_loss: 0.4739 - val_accuracy: 0.8494\n",
            "Epoch 106/200\n",
            "183/183 [==============================] - 2s 9ms/step - loss: 0.3314 - accuracy: 0.8801 - val_loss: 0.4658 - val_accuracy: 0.8528\n",
            "Epoch 107/200\n",
            "183/183 [==============================] - 2s 9ms/step - loss: 0.3288 - accuracy: 0.8809 - val_loss: 0.4642 - val_accuracy: 0.8548\n",
            "Epoch 108/200\n",
            "183/183 [==============================] - 2s 9ms/step - loss: 0.3247 - accuracy: 0.8817 - val_loss: 0.4705 - val_accuracy: 0.8523\n",
            "Epoch 109/200\n",
            "183/183 [==============================] - 2s 9ms/step - loss: 0.3208 - accuracy: 0.8836 - val_loss: 0.4639 - val_accuracy: 0.8570\n",
            "Epoch 110/200\n",
            "183/183 [==============================] - 2s 9ms/step - loss: 0.3201 - accuracy: 0.8828 - val_loss: 0.4670 - val_accuracy: 0.8547\n",
            "Epoch 111/200\n",
            "183/183 [==============================] - 2s 9ms/step - loss: 0.3215 - accuracy: 0.8832 - val_loss: 0.4752 - val_accuracy: 0.8548\n",
            "Epoch 112/200\n",
            "183/183 [==============================] - 2s 9ms/step - loss: 0.3202 - accuracy: 0.8837 - val_loss: 0.4599 - val_accuracy: 0.8559\n",
            "Epoch 113/200\n",
            "183/183 [==============================] - 2s 9ms/step - loss: 0.3248 - accuracy: 0.8827 - val_loss: 0.4515 - val_accuracy: 0.8625\n",
            "Epoch 114/200\n",
            "183/183 [==============================] - 2s 9ms/step - loss: 0.3175 - accuracy: 0.8848 - val_loss: 0.4440 - val_accuracy: 0.8629\n",
            "Epoch 115/200\n",
            "183/183 [==============================] - 2s 9ms/step - loss: 0.3091 - accuracy: 0.8884 - val_loss: 0.4663 - val_accuracy: 0.8597\n",
            "Epoch 116/200\n",
            "183/183 [==============================] - 2s 9ms/step - loss: 0.3154 - accuracy: 0.8856 - val_loss: 0.4991 - val_accuracy: 0.8537\n",
            "Epoch 117/200\n",
            "183/183 [==============================] - 2s 9ms/step - loss: 0.3129 - accuracy: 0.8860 - val_loss: 0.4626 - val_accuracy: 0.8613\n",
            "Epoch 118/200\n",
            "183/183 [==============================] - 2s 9ms/step - loss: 0.3105 - accuracy: 0.8874 - val_loss: 0.4618 - val_accuracy: 0.8630\n",
            "Epoch 119/200\n",
            "183/183 [==============================] - 2s 9ms/step - loss: 0.3162 - accuracy: 0.8860 - val_loss: 0.4656 - val_accuracy: 0.8575\n",
            "Epoch 120/200\n",
            "183/183 [==============================] - 2s 9ms/step - loss: 0.3022 - accuracy: 0.8901 - val_loss: 0.4533 - val_accuracy: 0.8630\n",
            "Epoch 121/200\n",
            "183/183 [==============================] - 2s 9ms/step - loss: 0.3020 - accuracy: 0.8902 - val_loss: 0.4564 - val_accuracy: 0.8587\n",
            "Epoch 122/200\n",
            "183/183 [==============================] - 2s 9ms/step - loss: 0.3058 - accuracy: 0.8902 - val_loss: 0.4575 - val_accuracy: 0.8601\n",
            "Epoch 123/200\n",
            "183/183 [==============================] - 2s 9ms/step - loss: 0.2974 - accuracy: 0.8928 - val_loss: 0.4709 - val_accuracy: 0.8640\n",
            "Epoch 124/200\n",
            "183/183 [==============================] - 2s 9ms/step - loss: 0.3058 - accuracy: 0.8895 - val_loss: 0.4674 - val_accuracy: 0.8614\n",
            "Epoch 125/200\n",
            "183/183 [==============================] - 2s 9ms/step - loss: 0.3051 - accuracy: 0.8901 - val_loss: 0.4557 - val_accuracy: 0.8660\n",
            "Epoch 126/200\n",
            "183/183 [==============================] - 2s 9ms/step - loss: 0.3047 - accuracy: 0.8921 - val_loss: 0.4612 - val_accuracy: 0.8620\n",
            "Epoch 127/200\n",
            "183/183 [==============================] - 2s 9ms/step - loss: 0.3087 - accuracy: 0.8919 - val_loss: 0.4572 - val_accuracy: 0.8596\n",
            "Epoch 128/200\n",
            "183/183 [==============================] - 2s 9ms/step - loss: 0.2995 - accuracy: 0.8921 - val_loss: 0.4518 - val_accuracy: 0.8631\n",
            "Epoch 129/200\n",
            "183/183 [==============================] - 2s 9ms/step - loss: 0.3002 - accuracy: 0.8902 - val_loss: 0.4731 - val_accuracy: 0.8621\n",
            "Epoch 130/200\n",
            "183/183 [==============================] - 2s 9ms/step - loss: 0.2965 - accuracy: 0.8943 - val_loss: 0.4753 - val_accuracy: 0.8605\n",
            "Epoch 131/200\n",
            "183/183 [==============================] - 2s 9ms/step - loss: 0.2904 - accuracy: 0.8952 - val_loss: 0.4564 - val_accuracy: 0.8566\n",
            "Epoch 132/200\n",
            "183/183 [==============================] - 2s 9ms/step - loss: 0.2880 - accuracy: 0.8975 - val_loss: 0.4567 - val_accuracy: 0.8665\n",
            "Epoch 133/200\n",
            "183/183 [==============================] - 2s 9ms/step - loss: 0.2806 - accuracy: 0.8989 - val_loss: 0.4834 - val_accuracy: 0.8603\n",
            "Epoch 134/200\n",
            "183/183 [==============================] - 2s 9ms/step - loss: 0.2953 - accuracy: 0.8960 - val_loss: 0.4901 - val_accuracy: 0.8572\n",
            "Epoch 135/200\n",
            "183/183 [==============================] - 2s 9ms/step - loss: 0.2910 - accuracy: 0.8953 - val_loss: 0.4641 - val_accuracy: 0.8587\n",
            "Epoch 136/200\n",
            "183/183 [==============================] - 2s 9ms/step - loss: 0.2837 - accuracy: 0.8979 - val_loss: 0.4681 - val_accuracy: 0.8652\n",
            "Epoch 137/200\n",
            "183/183 [==============================] - 2s 9ms/step - loss: 0.2845 - accuracy: 0.8998 - val_loss: 0.4669 - val_accuracy: 0.8610\n",
            "Epoch 138/200\n",
            "183/183 [==============================] - 2s 9ms/step - loss: 0.2861 - accuracy: 0.8968 - val_loss: 0.4749 - val_accuracy: 0.8596\n",
            "Epoch 139/200\n",
            "183/183 [==============================] - 2s 9ms/step - loss: 0.2841 - accuracy: 0.8998 - val_loss: 0.4566 - val_accuracy: 0.8652\n",
            "Epoch 140/200\n",
            "183/183 [==============================] - 2s 9ms/step - loss: 0.2832 - accuracy: 0.8995 - val_loss: 0.4858 - val_accuracy: 0.8566\n",
            "Epoch 141/200\n",
            "183/183 [==============================] - 2s 9ms/step - loss: 0.2823 - accuracy: 0.8990 - val_loss: 0.4683 - val_accuracy: 0.8653\n",
            "Epoch 142/200\n",
            "183/183 [==============================] - 2s 9ms/step - loss: 0.2867 - accuracy: 0.8969 - val_loss: 0.4498 - val_accuracy: 0.8674\n",
            "Epoch 143/200\n",
            "183/183 [==============================] - 2s 9ms/step - loss: 0.2762 - accuracy: 0.9014 - val_loss: 0.4764 - val_accuracy: 0.8648\n",
            "Epoch 144/200\n",
            "183/183 [==============================] - 2s 9ms/step - loss: 0.2688 - accuracy: 0.9043 - val_loss: 0.4653 - val_accuracy: 0.8637\n",
            "Epoch 145/200\n",
            "183/183 [==============================] - 2s 9ms/step - loss: 0.2867 - accuracy: 0.8991 - val_loss: 0.4660 - val_accuracy: 0.8609\n",
            "Epoch 146/200\n",
            "183/183 [==============================] - 2s 9ms/step - loss: 0.2822 - accuracy: 0.8989 - val_loss: 0.4766 - val_accuracy: 0.8686\n",
            "Epoch 147/200\n",
            "183/183 [==============================] - 2s 9ms/step - loss: 0.2769 - accuracy: 0.9011 - val_loss: 0.4552 - val_accuracy: 0.8638\n",
            "Epoch 148/200\n",
            "183/183 [==============================] - 2s 9ms/step - loss: 0.2856 - accuracy: 0.8989 - val_loss: 0.4386 - val_accuracy: 0.8727\n",
            "Epoch 149/200\n",
            "183/183 [==============================] - 2s 9ms/step - loss: 0.2693 - accuracy: 0.9045 - val_loss: 0.4768 - val_accuracy: 0.8657\n",
            "Epoch 150/200\n",
            "183/183 [==============================] - 2s 9ms/step - loss: 0.2772 - accuracy: 0.9020 - val_loss: 0.4567 - val_accuracy: 0.8687\n",
            "Epoch 151/200\n",
            "183/183 [==============================] - 2s 9ms/step - loss: 0.2736 - accuracy: 0.9030 - val_loss: 0.4767 - val_accuracy: 0.8681\n",
            "Epoch 152/200\n",
            "183/183 [==============================] - 2s 9ms/step - loss: 0.2704 - accuracy: 0.9034 - val_loss: 0.4557 - val_accuracy: 0.8718\n",
            "Epoch 153/200\n",
            "183/183 [==============================] - 2s 9ms/step - loss: 0.2645 - accuracy: 0.9067 - val_loss: 0.4796 - val_accuracy: 0.8662\n",
            "Epoch 154/200\n",
            "183/183 [==============================] - 2s 9ms/step - loss: 0.2675 - accuracy: 0.9057 - val_loss: 0.4417 - val_accuracy: 0.8754\n",
            "Epoch 155/200\n",
            "183/183 [==============================] - 2s 9ms/step - loss: 0.2587 - accuracy: 0.9076 - val_loss: 0.4639 - val_accuracy: 0.8666\n",
            "Epoch 156/200\n",
            "183/183 [==============================] - 2s 9ms/step - loss: 0.2696 - accuracy: 0.9041 - val_loss: 0.4731 - val_accuracy: 0.8684\n",
            "Epoch 157/200\n",
            "183/183 [==============================] - 2s 9ms/step - loss: 0.2660 - accuracy: 0.9057 - val_loss: 0.4670 - val_accuracy: 0.8642\n",
            "Epoch 158/200\n",
            "183/183 [==============================] - 2s 9ms/step - loss: 0.2629 - accuracy: 0.9077 - val_loss: 0.4471 - val_accuracy: 0.8733\n",
            "Epoch 159/200\n",
            "183/183 [==============================] - 2s 9ms/step - loss: 0.2583 - accuracy: 0.9081 - val_loss: 0.4462 - val_accuracy: 0.8739\n",
            "Epoch 160/200\n",
            "183/183 [==============================] - 2s 9ms/step - loss: 0.2534 - accuracy: 0.9089 - val_loss: 0.4713 - val_accuracy: 0.8631\n",
            "Epoch 161/200\n",
            "183/183 [==============================] - 2s 9ms/step - loss: 0.2667 - accuracy: 0.9074 - val_loss: 0.4433 - val_accuracy: 0.8794\n",
            "Epoch 162/200\n",
            "183/183 [==============================] - 2s 9ms/step - loss: 0.2694 - accuracy: 0.9034 - val_loss: 0.4587 - val_accuracy: 0.8732\n",
            "Epoch 163/200\n",
            "183/183 [==============================] - 2s 9ms/step - loss: 0.2627 - accuracy: 0.9092 - val_loss: 0.4510 - val_accuracy: 0.8733\n",
            "Epoch 164/200\n",
            "183/183 [==============================] - 2s 9ms/step - loss: 0.2542 - accuracy: 0.9103 - val_loss: 0.4655 - val_accuracy: 0.8685\n",
            "Epoch 165/200\n",
            "183/183 [==============================] - 2s 9ms/step - loss: 0.2721 - accuracy: 0.9060 - val_loss: 0.4475 - val_accuracy: 0.8704\n",
            "Epoch 166/200\n",
            "183/183 [==============================] - 2s 9ms/step - loss: 0.2613 - accuracy: 0.9069 - val_loss: 0.4498 - val_accuracy: 0.8712\n",
            "Epoch 167/200\n",
            "183/183 [==============================] - 2s 9ms/step - loss: 0.2524 - accuracy: 0.9109 - val_loss: 0.4466 - val_accuracy: 0.8766\n",
            "Epoch 168/200\n",
            "183/183 [==============================] - 2s 9ms/step - loss: 0.2519 - accuracy: 0.9113 - val_loss: 0.4614 - val_accuracy: 0.8738\n",
            "Epoch 169/200\n",
            "183/183 [==============================] - 2s 9ms/step - loss: 0.2566 - accuracy: 0.9097 - val_loss: 0.4441 - val_accuracy: 0.8793\n",
            "Epoch 170/200\n",
            "183/183 [==============================] - 2s 9ms/step - loss: 0.2512 - accuracy: 0.9115 - val_loss: 0.5003 - val_accuracy: 0.8684\n",
            "Epoch 171/200\n",
            "183/183 [==============================] - 2s 9ms/step - loss: 0.2552 - accuracy: 0.9100 - val_loss: 0.4519 - val_accuracy: 0.8724\n",
            "Epoch 172/200\n",
            "183/183 [==============================] - 2s 9ms/step - loss: 0.2541 - accuracy: 0.9136 - val_loss: 0.4411 - val_accuracy: 0.8787\n",
            "Epoch 173/200\n",
            "183/183 [==============================] - 2s 9ms/step - loss: 0.2489 - accuracy: 0.9125 - val_loss: 0.4587 - val_accuracy: 0.8756\n",
            "Epoch 174/200\n",
            "183/183 [==============================] - 2s 9ms/step - loss: 0.2499 - accuracy: 0.9131 - val_loss: 0.4749 - val_accuracy: 0.8665\n",
            "Epoch 175/200\n",
            "183/183 [==============================] - 2s 9ms/step - loss: 0.2507 - accuracy: 0.9128 - val_loss: 0.4630 - val_accuracy: 0.8669\n",
            "Epoch 176/200\n",
            "183/183 [==============================] - 2s 9ms/step - loss: 0.2406 - accuracy: 0.9166 - val_loss: 0.4347 - val_accuracy: 0.8795\n",
            "Epoch 177/200\n",
            "183/183 [==============================] - 2s 9ms/step - loss: 0.2438 - accuracy: 0.9149 - val_loss: 0.4341 - val_accuracy: 0.8744\n",
            "Epoch 178/200\n",
            "183/183 [==============================] - 2s 9ms/step - loss: 0.2399 - accuracy: 0.9150 - val_loss: 0.4628 - val_accuracy: 0.8736\n",
            "Epoch 179/200\n",
            "183/183 [==============================] - 2s 9ms/step - loss: 0.2445 - accuracy: 0.9138 - val_loss: 0.4586 - val_accuracy: 0.8751\n",
            "Epoch 180/200\n",
            "183/183 [==============================] - 2s 9ms/step - loss: 0.2460 - accuracy: 0.9143 - val_loss: 0.4478 - val_accuracy: 0.8743\n",
            "Epoch 181/200\n",
            "183/183 [==============================] - 2s 9ms/step - loss: 0.2520 - accuracy: 0.9121 - val_loss: 0.4819 - val_accuracy: 0.8595\n",
            "Epoch 182/200\n",
            "183/183 [==============================] - 2s 9ms/step - loss: 0.2443 - accuracy: 0.9147 - val_loss: 0.4423 - val_accuracy: 0.8802\n",
            "Epoch 183/200\n",
            "183/183 [==============================] - 2s 9ms/step - loss: 0.2453 - accuracy: 0.9145 - val_loss: 0.4458 - val_accuracy: 0.8742\n",
            "Epoch 184/200\n",
            "183/183 [==============================] - 2s 9ms/step - loss: 0.2515 - accuracy: 0.9129 - val_loss: 0.4411 - val_accuracy: 0.8788\n",
            "Epoch 185/200\n",
            "183/183 [==============================] - 2s 9ms/step - loss: 0.2401 - accuracy: 0.9160 - val_loss: 0.4757 - val_accuracy: 0.8755\n",
            "Epoch 186/200\n",
            "183/183 [==============================] - 2s 9ms/step - loss: 0.2426 - accuracy: 0.9153 - val_loss: 0.4628 - val_accuracy: 0.8752\n",
            "Epoch 187/200\n",
            "183/183 [==============================] - 2s 9ms/step - loss: 0.2387 - accuracy: 0.9166 - val_loss: 0.4663 - val_accuracy: 0.8787\n",
            "Epoch 188/200\n",
            "183/183 [==============================] - 2s 9ms/step - loss: 0.2342 - accuracy: 0.9188 - val_loss: 0.4455 - val_accuracy: 0.8833\n",
            "Epoch 189/200\n",
            "183/183 [==============================] - 2s 9ms/step - loss: 0.2417 - accuracy: 0.9176 - val_loss: 0.4603 - val_accuracy: 0.8754\n",
            "Epoch 190/200\n",
            "183/183 [==============================] - 2s 9ms/step - loss: 0.2420 - accuracy: 0.9157 - val_loss: 0.4430 - val_accuracy: 0.8841\n",
            "Epoch 191/200\n",
            "183/183 [==============================] - 2s 9ms/step - loss: 0.2344 - accuracy: 0.9188 - val_loss: 0.4566 - val_accuracy: 0.8813\n",
            "Epoch 192/200\n",
            "183/183 [==============================] - 2s 9ms/step - loss: 0.2524 - accuracy: 0.9127 - val_loss: 0.4901 - val_accuracy: 0.8668\n",
            "Epoch 193/200\n",
            "183/183 [==============================] - 2s 9ms/step - loss: 0.2449 - accuracy: 0.9141 - val_loss: 0.4821 - val_accuracy: 0.8715\n",
            "Epoch 194/200\n",
            "183/183 [==============================] - 2s 9ms/step - loss: 0.2440 - accuracy: 0.9142 - val_loss: 0.4594 - val_accuracy: 0.8772\n",
            "Epoch 195/200\n",
            "183/183 [==============================] - 2s 9ms/step - loss: 0.2379 - accuracy: 0.9173 - val_loss: 0.4235 - val_accuracy: 0.8827\n",
            "Epoch 196/200\n",
            "183/183 [==============================] - 2s 9ms/step - loss: 0.2309 - accuracy: 0.9202 - val_loss: 0.4717 - val_accuracy: 0.8713\n",
            "Epoch 197/200\n",
            "183/183 [==============================] - 2s 9ms/step - loss: 0.2352 - accuracy: 0.9197 - val_loss: 0.4400 - val_accuracy: 0.8842\n",
            "Epoch 198/200\n",
            "183/183 [==============================] - 2s 9ms/step - loss: 0.2421 - accuracy: 0.9168 - val_loss: 0.4507 - val_accuracy: 0.8752\n",
            "Epoch 199/200\n",
            "183/183 [==============================] - 2s 9ms/step - loss: 0.2307 - accuracy: 0.9213 - val_loss: 0.4638 - val_accuracy: 0.8800\n",
            "Epoch 200/200\n",
            "183/183 [==============================] - 2s 9ms/step - loss: 0.2447 - accuracy: 0.9155 - val_loss: 0.4598 - val_accuracy: 0.8772\n"
          ],
          "name": "stdout"
        }
      ]
    },
    {
      "cell_type": "code",
      "metadata": {
        "id": "b_eZO6bTFLLX",
        "colab_type": "code",
        "colab": {}
      },
      "source": [
        ""
      ],
      "execution_count": null,
      "outputs": []
    },
    {
      "cell_type": "code",
      "metadata": {
        "id": "JY7d6VDZCjaO",
        "colab_type": "code",
        "colab": {
          "base_uri": "https://localhost:8080/",
          "height": 68
        },
        "outputId": "e164f87f-0fd2-4265-af5c-eeaefaa93838"
      },
      "source": [
        "score = model.evaluate(x_test, y_test, verbose=1)\n",
        "print('Test loss:', score[0])\n",
        "print('Test accuracy:', score[1])"
      ],
      "execution_count": 91,
      "outputs": [
        {
          "output_type": "stream",
          "text": [
            "366/366 [==============================] - 1s 3ms/step - loss: 0.4598 - accuracy: 0.8772\n",
            "Test loss: 0.45984095335006714\n",
            "Test accuracy: 0.8772199749946594\n"
          ],
          "name": "stdout"
        }
      ]
    },
    {
      "cell_type": "code",
      "metadata": {
        "id": "LV_xGFKhDt67",
        "colab_type": "code",
        "colab": {
          "base_uri": "https://localhost:8080/",
          "height": 34
        },
        "outputId": "98dc9a4b-8c26-4919-a6d0-5220978c86ef"
      },
      "source": [
        "# list all data in history\n",
        "print(history.history.keys())\n",
        "import matplotlib.pyplot as plt\n",
        "import numpy\n"
      ],
      "execution_count": 92,
      "outputs": [
        {
          "output_type": "stream",
          "text": [
            "dict_keys(['loss', 'accuracy', 'val_loss', 'val_accuracy'])\n"
          ],
          "name": "stdout"
        }
      ]
    },
    {
      "cell_type": "code",
      "metadata": {
        "id": "dDQGSy8xFoob",
        "colab_type": "code",
        "colab": {
          "base_uri": "https://localhost:8080/",
          "height": 295
        },
        "outputId": "24af81b3-8364-4fab-c94d-c4619018f932"
      },
      "source": [
        "# summarize history for accuracy\n",
        "plt.plot(history.history['accuracy'])\n",
        "plt.plot(history.history['val_accuracy'])\n",
        "plt.title('model accuracy')\n",
        "plt.ylabel('accuracy')\n",
        "plt.xlabel('epoch')\n",
        "plt.legend(['train', 'test'], loc='upper left')\n",
        "plt.show()"
      ],
      "execution_count": 93,
      "outputs": [
        {
          "output_type": "display_data",
          "data": {
            "image/png": "[encoded data removed]",
            "text/plain": [
              "<Figure size 432x288 with 1 Axes>"
            ]
          },
          "metadata": {
            "tags": [],
            "needs_background": "light"
          }
        }
      ]
    },
    {
      "cell_type": "code",
      "metadata": {
        "id": "Fgg6gD0BFnZS",
        "colab_type": "code",
        "colab": {
          "base_uri": "https://localhost:8080/",
          "height": 295
        },
        "outputId": "7367a413-dc15-4a48-cbf4-063c4e33f081"
      },
      "source": [
        "# summarize history for loss\n",
        "plt.plot(history.history['loss'])\n",
        "plt.plot(history.history['val_loss'])\n",
        "plt.title('model loss')\n",
        "plt.ylabel('loss')\n",
        "plt.xlabel('epoch')\n",
        "plt.legend(['train', 'test'], loc='upper left')\n",
        "plt.show()"
      ],
      "execution_count": 94,
      "outputs": [
        {
          "output_type": "display_data",
          "data": {
            "image/png": "[encoded data removed]",
            "text/plain": [
              "<Figure size 432x288 with 1 Axes>"
            ]
          },
          "metadata": {
            "tags": [],
            "needs_background": "light"
          }
        }
      ]
    },
    {
      "cell_type": "code",
      "metadata": {
        "id": "xZwaY3SeKnJb",
        "colab_type": "code",
        "colab": {
          "base_uri": "https://localhost:8080/",
          "height": 295
        },
        "outputId": "5abfa20e-533b-425a-c5fa-ecfb488f9fdc"
      },
      "source": [
        "plt.plot(history.history['val_accuracy'])\n",
        "plt.plot(history.history['val_loss'])\n",
        "plt.title('test model')\n",
        "plt.ylabel('test accuracy')\n",
        "plt.xlabel('test loss')\n",
        "plt.show()"
      ],
      "execution_count": 95,
      "outputs": [
        {
          "output_type": "display_data",
          "data": {
            "image/png": "[encoded data removed]",
            "text/plain": [
              "<Figure size 432x288 with 1 Axes>"
            ]
          },
          "metadata": {
            "tags": [],
            "needs_background": "light"
          }
        }
      ]
    },
    {
      "cell_type": "code",
      "metadata": {
        "id": "NGR4wrOdL5DF",
        "colab_type": "code",
        "colab": {}
      },
      "source": [
        "y_pred=model.predict(x_test)\n",
        "from sklearn.metrics import confusion_matrix\n",
        "import numpy as np"
      ],
      "execution_count": 96,
      "outputs": []
    },
    {
      "cell_type": "code",
      "metadata": {
        "id": "9y5wCoinVRhi",
        "colab_type": "code",
        "colab": {
          "base_uri": "https://localhost:8080/",
          "height": 34
        },
        "outputId": "d187cbc5-1968-4be3-95bf-c043b075e2fa"
      },
      "source": [
        "y_test[1]"
      ],
      "execution_count": 97,
      "outputs": [
        {
          "output_type": "execute_result",
          "data": {
            "text/plain": [
              "array([0., 0., 0., 0., 0., 0., 0., 1., 0., 0.], dtype=float32)"
            ]
          },
          "metadata": {
            "tags": []
          },
          "execution_count": 97
        }
      ]
    },
    {
      "cell_type": "code",
      "metadata": {
        "id": "2q13VADTXlQ9",
        "colab_type": "code",
        "colab": {
          "base_uri": "https://localhost:8080/",
          "height": 68
        },
        "outputId": "69604f0c-c949-4bdb-c980-57e0c3ed5785"
      },
      "source": [
        "y_pred[1]"
      ],
      "execution_count": 98,
      "outputs": [
        {
          "output_type": "execute_result",
          "data": {
            "text/plain": [
              "array([4.7614737e-38, 3.1183075e-07, 0.0000000e+00, 4.4039957e-08,\n",
              "       1.4481380e-11, 2.0261881e-05, 9.3925128e-06, 9.9996865e-01,\n",
              "       5.1518407e-07, 8.2126684e-07], dtype=float32)"
            ]
          },
          "metadata": {
            "tags": []
          },
          "execution_count": 98
        }
      ]
    },
    {
      "cell_type": "code",
      "metadata": {
        "id": "ilOzv9RdVOtg",
        "colab_type": "code",
        "colab": {}
      },
      "source": [
        "y_test1=np.argmax(y_test, axis=1)"
      ],
      "execution_count": 99,
      "outputs": []
    },
    {
      "cell_type": "code",
      "metadata": {
        "id": "Pvkh6dE6XzNa",
        "colab_type": "code",
        "colab": {}
      },
      "source": [
        "y_pred=np.argmax(y_pred,axis=1)"
      ],
      "execution_count": 100,
      "outputs": []
    },
    {
      "cell_type": "code",
      "metadata": {
        "id": "wLOOyigNaJke",
        "colab_type": "code",
        "colab": {
          "base_uri": "https://localhost:8080/",
          "height": 34
        },
        "outputId": "a382c1af-6a22-4a5f-f542-ef74165f747a"
      },
      "source": [
        "y_test1[1]"
      ],
      "execution_count": 101,
      "outputs": [
        {
          "output_type": "execute_result",
          "data": {
            "text/plain": [
              "7"
            ]
          },
          "metadata": {
            "tags": []
          },
          "execution_count": 101
        }
      ]
    },
    {
      "cell_type": "code",
      "metadata": {
        "id": "0f968lExaSRS",
        "colab_type": "code",
        "colab": {
          "base_uri": "https://localhost:8080/",
          "height": 34
        },
        "outputId": "16766b47-ef0b-4e7e-8654-4e67931c0b7c"
      },
      "source": [
        "y_pred[1]"
      ],
      "execution_count": 102,
      "outputs": [
        {
          "output_type": "execute_result",
          "data": {
            "text/plain": [
              "7"
            ]
          },
          "metadata": {
            "tags": []
          },
          "execution_count": 102
        }
      ]
    },
    {
      "cell_type": "code",
      "metadata": {
        "id": "45fHlde5OtWn",
        "colab_type": "code",
        "colab": {}
      },
      "source": [
        "cmatrix=confusion_matrix(y_test1, y_pred)"
      ],
      "execution_count": 103,
      "outputs": []
    },
    {
      "cell_type": "code",
      "metadata": {
        "id": "7p70V5JCRyvZ",
        "colab_type": "code",
        "colab": {
          "base_uri": "https://localhost:8080/",
          "height": 599
        },
        "outputId": "953b41ed-59e4-47d6-ca74-e42b51a77893"
      },
      "source": [
        "import seaborn as sns\n",
        "figure = plt.figure(figsize=(8, 8))\n",
        "sns.heatmap(cmatrix, annot=True,cmap=plt.cm.Blues)\n",
        "plt.tight_layout()\n",
        "plt.ylabel('True label')\n",
        "plt.xlabel('Predicted label')\n",
        "plt.show()"
      ],
      "execution_count": 104,
      "outputs": [
        {
          "output_type": "display_data",
          "data": {
            "image/png": "[encoded data removed]",
            "text/plain": [
              "<Figure size 576x576 with 2 Axes>"
            ]
          },
          "metadata": {
            "tags": [],
            "needs_background": "light"
          }
        }
      ]
    }
  ]
}

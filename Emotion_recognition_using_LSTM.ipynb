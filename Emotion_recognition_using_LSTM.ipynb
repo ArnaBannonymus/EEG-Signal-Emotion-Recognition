{
  "nbformat": 4,
  "nbformat_minor": 0,
  "metadata": {
    "colab": {
      "name": "liking_lstm_75-25",
      "provenance": [],
      "collapsed_sections": [],
      "include_colab_link": true
    },
    "kernelspec": {
      "name": "python3",
      "display_name": "Python 3"
    },
    "accelerator": "GPU"
  },
  "cells": [
    {
      "cell_type": "markdown",
      "metadata": {
        "id": "view-in-github",
        "colab_type": "text"
      },
      "source": [
        "<a href=\"https://colab.research.google.com/github/siddhi5386/Emotion-Recognition-from-brain-EEG-signals-/blob/master/emotion%20recognition%20by%20lstm.ipynb\" target=\"_parent\"><img src=\"https://colab.research.google.com/assets/colab-badge.svg\" alt=\"Open In Colab\"/></a>"
      ]
    },
    {
      "cell_type": "code",
      "metadata": {
        "id": "tF3gVQEkGZ8u",
        "colab_type": "code",
        "colab": {}
      },
      "source": [
        "import numpy as np\n",
        "import pyeeg as pe\n",
        "import pickle as pickle\n",
        "import pandas as pd\n",
        "import math\n",
        "\n",
        "from sklearn import svm\n",
        "from sklearn.preprocessing import normalize\n",
        "\n",
        "import os\n",
        "import time"
      ],
      "execution_count": null,
      "outputs": []
    },
    {
      "cell_type": "code",
      "metadata": {
        "id": "8jeRbal5Lue5",
        "colab_type": "code",
        "colab": {
          "base_uri": "https://localhost:8080/",
          "height": 202
        },
        "outputId": "7adfcb11-d782-4a00-99b2-2d10e6ce9063"
      },
      "source": [
        "\n",
        "!pip install git+https://github.com/forrestbao/pyeeg.git"
      ],
      "execution_count": null,
      "outputs": [
        {
          "output_type": "stream",
          "text": [
            "Collecting git+https://github.com/forrestbao/pyeeg.git\n",
            "  Cloning https://github.com/forrestbao/pyeeg.git to /tmp/pip-req-build-sdzy9yws\n",
            "  Running command git clone -q https://github.com/forrestbao/pyeeg.git /tmp/pip-req-build-sdzy9yws\n",
            "Requirement already satisfied: numpy>=1.9.2 in /usr/local/lib/python3.6/dist-packages (from pyeeg==0.4.4) (1.18.5)\n",
            "Building wheels for collected packages: pyeeg\n",
            "  Building wheel for pyeeg (setup.py) ... \u001b[?25l\u001b[?25hdone\n",
            "  Created wheel for pyeeg: filename=pyeeg-0.4.4-py2.py3-none-any.whl size=28121 sha256=3614de350683fd413400dd5ba4023c653174e5eff9972311796b365bed682dda\n",
            "  Stored in directory: /tmp/pip-ephem-wheel-cache-lueqi85p/wheels/2d/3f/ad/106d4fc80b61d1ea1fc18e76e7439fd98aa043d83d58eae741\n",
            "Successfully built pyeeg\n",
            "Installing collected packages: pyeeg\n",
            "Successfully installed pyeeg-0.4.4\n"
          ],
          "name": "stdout"
        }
      ]
    },
    {
      "cell_type": "code",
      "metadata": {
        "id": "lm0k23zuGo65",
        "colab_type": "code",
        "colab": {}
      },
      "source": [
        "\n",
        "import pandas as pd\n",
        "import keras.backend as K\n",
        "import numpy as np\n",
        "import pandas as pd\n",
        "from keras.models import Sequential\n",
        "from keras.layers import Dense\n",
        "from keras.models import Sequential\n",
        "from keras.layers.convolutional import Conv1D\n",
        "from keras.layers.convolutional import MaxPooling1D\n",
        "from keras.utils import to_categorical \n",
        "from keras.layers import Flatten\n",
        "from keras.layers import Dense\n",
        "import numpy as np\n",
        "import keras\n",
        "from keras.datasets import mnist\n",
        "from keras.models import Sequential\n",
        "from keras.layers import Dense, Dropout, Flatten, Conv2D, MaxPooling2D\n",
        "from keras import backend as K\n",
        "from keras.models import Model\n",
        "import timeit\n",
        "from keras.models import Sequential\n",
        "from keras.layers.core import Flatten, Dense, Dropout\n",
        "from keras.layers.convolutional import Convolution1D, MaxPooling1D, ZeroPadding1D\n",
        "from keras.optimizers import SGD\n",
        "#import cv2, numpy as np\n",
        "import warnings\n",
        "warnings.filterwarnings('ignore')"
      ],
      "execution_count": null,
      "outputs": []
    },
    {
      "cell_type": "code",
      "metadata": {
        "id": "AgsPdoPjGqZr",
        "colab_type": "code",
        "colab": {
          "base_uri": "https://localhost:8080/",
          "height": 121
        },
        "outputId": "671868dd-1329-4330-e6a0-bb427d6c7195"
      },
      "source": [
        "from google.colab import drive\n",
        "drive.mount('/content/drive/')"
      ],
      "execution_count": null,
      "outputs": [
        {
          "output_type": "stream",
          "text": [
            "Go to this URL in a browser: https://accounts.google.com/o/oauth2/auth?client_id=947318989803-6bn6qk8qdgf4n4g3pfee6491hc0brc4i.apps.googleusercontent.com&redirect_uri=urn%3aietf%3awg%3aoauth%3a2.0%3aoob&scope=email%20https%3a%2f%2fwww.googleapis.com%2fauth%2fdocs.test%20https%3a%2f%2fwww.googleapis.com%2fauth%2fdrive%20https%3a%2f%2fwww.googleapis.com%2fauth%2fdrive.photos.readonly%20https%3a%2f%2fwww.googleapis.com%2fauth%2fpeopleapi.readonly&response_type=code\n",
            "\n",
            "Enter your authorization code:\n",
            "··········\n",
            "Mounted at /content/drive/\n"
          ],
          "name": "stdout"
        }
      ]
    },
    {
      "cell_type": "code",
      "metadata": {
        "id": "ASswKjdRGwEu",
        "colab_type": "code",
        "colab": {}
      },
      "source": [
        "os.getcwd()\n",
        "os.chdir('/content/drive/My Drive')"
      ],
      "execution_count": null,
      "outputs": []
    },
    {
      "cell_type": "code",
      "metadata": {
        "id": "JlTnHOiBGyxf",
        "colab_type": "code",
        "colab": {}
      },
      "source": [
        "channel = [1,2,3,4,6,11,13,17,19,20,21,25,29,31] #14 Channels chosen to fit Emotiv Epoch+\n",
        "band = [4,8,12,16,25,45] #5 bands\n",
        "window_size = 256 #Averaging band power of 2 sec\n",
        "step_size = 16 #Each 0.125 sec update once\n",
        "sample_rate = 128 #Sampling rate of 128 Hz\n",
        "subjectList = ['01','02','03']\n",
        "#List of subjects"
      ],
      "execution_count": null,
      "outputs": []
    },
    {
      "cell_type": "code",
      "metadata": {
        "id": "dDL5twy_HS9X",
        "colab_type": "code",
        "colab": {}
      },
      "source": [
        "def FFT_Processing (sub, channel, band, window_size, step_size, sample_rate):\n",
        "    '''\n",
        "    arguments:  string subject\n",
        "                list channel indice\n",
        "                list band\n",
        "                int window size for FFT\n",
        "                int step size for FFT\n",
        "                int sample rate for FFT\n",
        "    return:     void\n",
        "    '''\n",
        "    meta = []\n",
        "    with open(\"/content/drive/My Drive/LEADING_AI/DATA/s\" + sub + '.dat', 'rb') as file:\n",
        "\n",
        "        subject = pickle.load(file, encoding='latin1') #resolve the python 2 data problem by encoding : latin1\n",
        "\n",
        "        for i in range (0,40):\n",
        "            # loop over 0-39 trails\n",
        "            data = subject[\"data\"][i]\n",
        "            labels = subject[\"labels\"][i]\n",
        "            start = 0;\n",
        "\n",
        "            while start + window_size < data.shape[1]:\n",
        "                meta_array = []\n",
        "                meta_data = [] #meta vector for analysis\n",
        "                for j in channel:\n",
        "                    X = data[j][start : start + window_size] #Slice raw data over 2 sec, at interval of 0.125 sec\n",
        "                    Y = pe.bin_power(X, band, sample_rate) #FFT over 2 sec of channel j, in seq of theta, alpha, low beta, high beta, gamma\n",
        "                    meta_data = meta_data + list(Y[0])\n",
        "\n",
        "                meta_array.append(np.array(meta_data))\n",
        "                meta_array.append(labels)\n",
        "\n",
        "                meta.append(np.array(meta_array))    \n",
        "                start = start + step_size\n",
        "                \n",
        "        meta = np.array(meta)\n",
        "        np.save('/content/drive/My Drive/LEADING_AI/DATA/s' + sub, meta, allow_pickle=True, fix_imports=True)"
      ],
      "execution_count": null,
      "outputs": []
    },
    {
      "cell_type": "code",
      "metadata": {
        "id": "qX3PI_EQJWYz",
        "colab_type": "code",
        "colab": {}
      },
      "source": [
        "for subjects in subjectList:\n",
        "    FFT_Processing (subjects, channel, band, window_size, step_size, sample_rate)"
      ],
      "execution_count": null,
      "outputs": []
    },
    {
      "cell_type": "code",
      "metadata": {
        "id": "RhIAfob8JeDZ",
        "colab_type": "code",
        "colab": {
          "base_uri": "https://localhost:8080/",
          "height": 50
        },
        "outputId": "97674ae9-d11e-474b-c18e-35bd86d0a2aa"
      },
      "source": [
        "\n",
        "data_training = []\n",
        "label_training = []\n",
        "data_testing = []\n",
        "label_testing = []\n",
        "\n",
        "for subjects in subjectList:\n",
        "\n",
        "    with open('/content/drive/My Drive/LEADING_AI/DATA/s' + subjects + '.npy', 'rb') as file:\n",
        "      sub = np.load(file,allow_pickle=True)\n",
        "      for i in range (0,sub.shape[0]):\n",
        "        if i % 4 == 0:\n",
        "          data_testing.append(sub[i][0])\n",
        "          label_testing.append(sub[i][1])\n",
        "        else:\n",
        "          data_training.append(sub[i][0])\n",
        "          label_training.append(sub[i][1])\n",
        "\n",
        "np.save('/content/drive/My Drive/LEADING_AI/70_30/data_training', np.array(data_training), allow_pickle=True, fix_imports=True)\n",
        "np.save('/content/drive/My Drive/LEADING_AI/70_30/label_training', np.array(label_training), allow_pickle=True, fix_imports=True)\n",
        "print(\"training dataset:\", np.array(data_training).shape, np.array(label_training).shape)\n",
        "\n",
        "np.save('/content/drive/My Drive/LEADING_AI/70_30/data_testing', np.array(data_testing), allow_pickle=True, fix_imports=True)\n",
        "np.save('/content/drive/My Drive/LEADING_AI/70_30/label_testing', np.array(label_testing), allow_pickle=True, fix_imports=True)\n",
        "print(\"testing dataset:\", np.array(data_testing).shape, np.array(label_testing).shape)"
      ],
      "execution_count": null,
      "outputs": [
        {
          "output_type": "stream",
          "text": [
            "training dataset: (43920, 70) (43920, 4)\n",
            "testing dataset: (14640, 70) (14640, 4)\n"
          ],
          "name": "stdout"
        }
      ]
    },
    {
      "cell_type": "code",
      "metadata": {
        "id": "ABWVaT4-MvT4",
        "colab_type": "code",
        "colab": {}
      },
      "source": [
        "\n",
        "with open('/content/drive/My Drive/LEADING_AI/70_30/data_training.npy', 'rb') as fileTrain:\n",
        "    X  = np.load(fileTrain)\n",
        "    \n",
        "with open('/content/drive/My Drive/LEADING_AI/70_30/label_training.npy', 'rb') as fileTrainL:\n",
        "    Y  = np.load(fileTrainL)\n",
        "    \n",
        "X = normalize(X)\n",
        "Z = np.ravel(Y[:, [3]])\n",
        "\n",
        "Arousal_Train = np.ravel(Y[:, [0]])\n",
        "Valence_Train = np.ravel(Y[:, [1]])\n",
        "Domain_Train = np.ravel(Y[:, [2]])\n",
        "Like_Train = np.ravel(Y[:, [3]])"
      ],
      "execution_count": null,
      "outputs": []
    },
    {
      "cell_type": "code",
      "metadata": {
        "id": "JJRTIDzsVKVJ",
        "colab_type": "code",
        "colab": {
          "base_uri": "https://localhost:8080/",
          "height": 34
        },
        "outputId": "15964936-0162-4e52-f820-ded46302b75e"
      },
      "source": [
        "X.shape"
      ],
      "execution_count": null,
      "outputs": [
        {
          "output_type": "execute_result",
          "data": {
            "text/plain": [
              "(43920, 70)"
            ]
          },
          "metadata": {
            "tags": []
          },
          "execution_count": 52
        }
      ]
    },
    {
      "cell_type": "code",
      "metadata": {
        "id": "ETTgk5t8QSMR",
        "colab_type": "code",
        "colab": {
          "base_uri": "https://localhost:8080/",
          "height": 134
        },
        "outputId": "6986bb25-de03-4e2a-b2a4-18942c553ca0"
      },
      "source": [
        "\n",
        "from keras.utils import to_categorical\n",
        "y_train = to_categorical(Z)\n",
        "y_train"
      ],
      "execution_count": null,
      "outputs": [
        {
          "output_type": "execute_result",
          "data": {
            "text/plain": [
              "array([[0., 0., 0., ..., 1., 0., 0.],\n",
              "       [0., 0., 0., ..., 1., 0., 0.],\n",
              "       [0., 0., 0., ..., 1., 0., 0.],\n",
              "       ...,\n",
              "       [0., 0., 0., ..., 0., 0., 0.],\n",
              "       [0., 0., 0., ..., 0., 0., 0.],\n",
              "       [0., 0., 0., ..., 0., 0., 0.]], dtype=float32)"
            ]
          },
          "metadata": {
            "tags": []
          },
          "execution_count": 53
        }
      ]
    },
    {
      "cell_type": "code",
      "metadata": {
        "id": "s1rZXI84QTgw",
        "colab_type": "code",
        "colab": {}
      },
      "source": [
        "x_train = np.array(X[:])"
      ],
      "execution_count": null,
      "outputs": []
    },
    {
      "cell_type": "code",
      "metadata": {
        "id": "TQgp1409QXiR",
        "colab_type": "code",
        "colab": {}
      },
      "source": [
        "\n",
        "with open('/content/drive/My Drive/LEADING_AI/70_30/data_testing.npy', 'rb') as fileTrain:\n",
        "    M  = np.load(fileTrain)\n",
        "    \n",
        "with open('/content/drive/My Drive/LEADING_AI/70_30/label_testing.npy', 'rb') as fileTrainL:\n",
        "    N  = np.load(fileTrainL)\n",
        "\n",
        "M = normalize(M)\n",
        "L = np.ravel(N[:, [3]])\n",
        "\n",
        "Arousal_Test = np.ravel(N[:, [0]])\n",
        "Valence_Test = np.ravel(N[:, [1]])\n",
        "Domain_Test = np.ravel(N[:, [2]])\n",
        "Like_Test = np.ravel(N[:, [3]])"
      ],
      "execution_count": null,
      "outputs": []
    },
    {
      "cell_type": "code",
      "metadata": {
        "id": "A5bP6dwcRmSK",
        "colab_type": "code",
        "colab": {}
      },
      "source": [
        "x_test = np.array(M[:])"
      ],
      "execution_count": null,
      "outputs": []
    },
    {
      "cell_type": "code",
      "metadata": {
        "id": "z7zknJnQRmfs",
        "colab_type": "code",
        "colab": {
          "base_uri": "https://localhost:8080/",
          "height": 134
        },
        "outputId": "437b9d83-c2d7-427d-b334-464cc199e2bf"
      },
      "source": [
        "from keras.utils import to_categorical\n",
        "y_test = to_categorical(L)\n",
        "y_test"
      ],
      "execution_count": null,
      "outputs": [
        {
          "output_type": "execute_result",
          "data": {
            "text/plain": [
              "array([[0., 0., 0., ..., 1., 0., 0.],\n",
              "       [0., 0., 0., ..., 1., 0., 0.],\n",
              "       [0., 0., 0., ..., 1., 0., 0.],\n",
              "       ...,\n",
              "       [0., 0., 0., ..., 0., 0., 0.],\n",
              "       [0., 0., 0., ..., 0., 0., 0.],\n",
              "       [0., 0., 0., ..., 0., 0., 0.]], dtype=float32)"
            ]
          },
          "metadata": {
            "tags": []
          },
          "execution_count": 58
        }
      ]
    },
    {
      "cell_type": "code",
      "metadata": {
        "id": "qTnzEnFuQ5RK",
        "colab_type": "code",
        "colab": {}
      },
      "source": [
        "\n",
        "from sklearn.preprocessing import StandardScaler\n",
        "scaler = StandardScaler()\n",
        "x_train = scaler.fit_transform(x_train)\n",
        "x_test = scaler.fit_transform(x_test)"
      ],
      "execution_count": null,
      "outputs": []
    },
    {
      "cell_type": "code",
      "metadata": {
        "id": "9sAV4SCdRA_E",
        "colab_type": "code",
        "colab": {}
      },
      "source": [
        "x_train = x_train.reshape(x_train.shape[0],x_train.shape[1], 1)\n",
        "x_test = x_test.reshape(x_test.shape[0],x_test.shape[1], 1)"
      ],
      "execution_count": null,
      "outputs": []
    },
    {
      "cell_type": "code",
      "metadata": {
        "id": "awpkfh90RBxV",
        "colab_type": "code",
        "colab": {
          "base_uri": "https://localhost:8080/",
          "height": 34
        },
        "outputId": "0ada4f21-a7cd-4c88-b714-980f90924100"
      },
      "source": [
        "x_train.shape"
      ],
      "execution_count": null,
      "outputs": [
        {
          "output_type": "execute_result",
          "data": {
            "text/plain": [
              "(43920, 70, 1)"
            ]
          },
          "metadata": {
            "tags": []
          },
          "execution_count": 61
        }
      ]
    },
    {
      "cell_type": "code",
      "metadata": {
        "id": "IjKJEOSSRFYm",
        "colab_type": "code",
        "colab": {}
      },
      "source": [
        "\n",
        "batch_size = 256\n",
        "num_classes = 10\n",
        "epochs = 200\n",
        "input_shape=(x_train.shape[1], 1)"
      ],
      "execution_count": null,
      "outputs": []
    },
    {
      "cell_type": "code",
      "metadata": {
        "id": "n1IyrpeyRHXs",
        "colab_type": "code",
        "colab": {
          "base_uri": "https://localhost:8080/",
          "height": 34
        },
        "outputId": "7de57b8d-2459-4487-d86f-ce7b9d435d81"
      },
      "source": [
        "\n",
        "print(input_shape)"
      ],
      "execution_count": null,
      "outputs": [
        {
          "output_type": "stream",
          "text": [
            "(70, 1)\n"
          ],
          "name": "stdout"
        }
      ]
    },
    {
      "cell_type": "code",
      "metadata": {
        "id": "q-mHGsfjRKQn",
        "colab_type": "code",
        "colab": {}
      },
      "source": [
        "from keras.layers import Convolution1D, ZeroPadding1D, MaxPooling1D, BatchNormalization, Activation, Dropout, Flatten, Dense\n",
        "from keras.regularizers import l2"
      ],
      "execution_count": null,
      "outputs": []
    },
    {
      "cell_type": "code",
      "metadata": {
        "id": "8kqlW2jkMEvJ",
        "colab_type": "code",
        "colab": {
          "base_uri": "https://localhost:8080/",
          "height": 1000
        },
        "outputId": "5433b372-9421-463d-a5a5-ae41c19e44a1"
      },
      "source": [
        "  from keras.regularizers import l2\n",
        "  from keras.layers import Bidirectional\n",
        "  from keras.layers import LSTM\n",
        "\n",
        "  model = Sequential()\n",
        " \n",
        "  model.add(Bidirectional(LSTM(128, return_sequences=True), input_shape=input_shape))\n",
        "  model.add(Dropout(0.6))\n",
        "\n",
        "  model.add(LSTM(units = 256, return_sequences = True))  \n",
        "  model.add(Dropout(0.6))\n",
        "\n",
        "  model.add(LSTM(units = 64, return_sequences = True))  \n",
        "  model.add(Dropout(0.6))\n",
        "\n",
        "  model.add(LSTM(units = 64, return_sequences = True))  \n",
        "  model.add(Dropout(0.4))\n",
        "\n",
        "  model.add(LSTM(units = 32))\n",
        "  model.add(Dropout(0.4))\n",
        "\n",
        "  model.add(Dense(units = 16))\n",
        "  model.add(Activation('relu'))\n",
        "\n",
        "  model.add(Dense(units = num_classes))\n",
        "  model.add(Activation('softmax'))\n",
        "  model.compile(optimizer =\"adam\", loss =keras.losses.categorical_crossentropy,metrics=[\"accuracy\"])\n",
        "  model.summary()\n",
        "  m=model.fit(x_train, y_train,epochs=200,batch_size=256,verbose=1,validation_data=(x_test, y_test))"
      ],
      "execution_count": null,
      "outputs": [
        {
          "output_type": "stream",
          "text": [
            "Model: \"sequential_2\"\n",
            "_________________________________________________________________\n",
            "Layer (type)                 Output Shape              Param #   \n",
            "=================================================================\n",
            "bidirectional_2 (Bidirection (None, 70, 256)           133120    \n",
            "_________________________________________________________________\n",
            "dropout_10 (Dropout)         (None, 70, 256)           0         \n",
            "_________________________________________________________________\n",
            "lstm_11 (LSTM)               (None, 70, 256)           525312    \n",
            "_________________________________________________________________\n",
            "dropout_11 (Dropout)         (None, 70, 256)           0         \n",
            "_________________________________________________________________\n",
            "lstm_12 (LSTM)               (None, 70, 64)            82176     \n",
            "_________________________________________________________________\n",
            "dropout_12 (Dropout)         (None, 70, 64)            0         \n",
            "_________________________________________________________________\n",
            "lstm_13 (LSTM)               (None, 70, 64)            33024     \n",
            "_________________________________________________________________\n",
            "dropout_13 (Dropout)         (None, 70, 64)            0         \n",
            "_________________________________________________________________\n",
            "lstm_14 (LSTM)               (None, 32)                12416     \n",
            "_________________________________________________________________\n",
            "dropout_14 (Dropout)         (None, 32)                0         \n",
            "_________________________________________________________________\n",
            "dense_4 (Dense)              (None, 16)                528       \n",
            "_________________________________________________________________\n",
            "activation_4 (Activation)    (None, 16)                0         \n",
            "_________________________________________________________________\n",
            "dense_5 (Dense)              (None, 10)                170       \n",
            "_________________________________________________________________\n",
            "activation_5 (Activation)    (None, 10)                0         \n",
            "=================================================================\n",
            "Total params: 786,746\n",
            "Trainable params: 786,746\n",
            "Non-trainable params: 0\n",
            "_________________________________________________________________\n",
            "Epoch 1/200\n",
            "172/172 [==============================] - 11s 66ms/step - loss: 1.7874 - accuracy: 0.3086 - val_loss: 1.5698 - val_accuracy: 0.3249\n",
            "Epoch 2/200\n",
            "172/172 [==============================] - 10s 56ms/step - loss: 1.5740 - accuracy: 0.3194 - val_loss: 1.5335 - val_accuracy: 0.3327\n",
            "Epoch 3/200\n",
            "172/172 [==============================] - 10s 56ms/step - loss: 1.5527 - accuracy: 0.3238 - val_loss: 1.5284 - val_accuracy: 0.3247\n",
            "Epoch 4/200\n",
            "172/172 [==============================] - 10s 56ms/step - loss: 1.5436 - accuracy: 0.3244 - val_loss: 1.5271 - val_accuracy: 0.3328\n",
            "Epoch 5/200\n",
            "172/172 [==============================] - 10s 56ms/step - loss: 1.5346 - accuracy: 0.3265 - val_loss: 1.5248 - val_accuracy: 0.3335\n",
            "Epoch 6/200\n",
            "172/172 [==============================] - 10s 57ms/step - loss: 1.5308 - accuracy: 0.3288 - val_loss: 1.5177 - val_accuracy: 0.3333\n",
            "Epoch 7/200\n",
            "172/172 [==============================] - 10s 57ms/step - loss: 1.5309 - accuracy: 0.3281 - val_loss: 1.5192 - val_accuracy: 0.3327\n",
            "Epoch 8/200\n",
            "172/172 [==============================] - 10s 56ms/step - loss: 1.5225 - accuracy: 0.3312 - val_loss: 1.5109 - val_accuracy: 0.3346\n",
            "Epoch 9/200\n",
            "172/172 [==============================] - 10s 56ms/step - loss: 1.5195 - accuracy: 0.3330 - val_loss: 1.5081 - val_accuracy: 0.3354\n",
            "Epoch 10/200\n",
            "172/172 [==============================] - 10s 56ms/step - loss: 1.5183 - accuracy: 0.3320 - val_loss: 1.5452 - val_accuracy: 0.3268\n",
            "Epoch 11/200\n",
            "172/172 [==============================] - 10s 56ms/step - loss: 1.5148 - accuracy: 0.3353 - val_loss: 1.5027 - val_accuracy: 0.3413\n",
            "Epoch 12/200\n",
            "172/172 [==============================] - 10s 57ms/step - loss: 1.5140 - accuracy: 0.3341 - val_loss: 1.5025 - val_accuracy: 0.3383\n",
            "Epoch 13/200\n",
            "172/172 [==============================] - 10s 56ms/step - loss: 1.5087 - accuracy: 0.3366 - val_loss: 1.5005 - val_accuracy: 0.3358\n",
            "Epoch 14/200\n",
            "172/172 [==============================] - 10s 56ms/step - loss: 1.5071 - accuracy: 0.3401 - val_loss: 1.4868 - val_accuracy: 0.3462\n",
            "Epoch 15/200\n",
            "172/172 [==============================] - 10s 56ms/step - loss: 1.5087 - accuracy: 0.3369 - val_loss: 1.5897 - val_accuracy: 0.3102\n",
            "Epoch 16/200\n",
            "172/172 [==============================] - 10s 56ms/step - loss: 1.5209 - accuracy: 0.3338 - val_loss: 1.4936 - val_accuracy: 0.3428\n",
            "Epoch 17/200\n",
            "172/172 [==============================] - 10s 56ms/step - loss: 1.4992 - accuracy: 0.3427 - val_loss: 1.4857 - val_accuracy: 0.3469\n",
            "Epoch 18/200\n",
            "172/172 [==============================] - 10s 56ms/step - loss: 1.4920 - accuracy: 0.3449 - val_loss: 1.4744 - val_accuracy: 0.3555\n",
            "Epoch 19/200\n",
            "172/172 [==============================] - 10s 56ms/step - loss: 1.4903 - accuracy: 0.3467 - val_loss: 1.4910 - val_accuracy: 0.3471\n",
            "Epoch 20/200\n",
            "172/172 [==============================] - 10s 56ms/step - loss: 1.4854 - accuracy: 0.3528 - val_loss: 1.4614 - val_accuracy: 0.3606\n",
            "Epoch 21/200\n",
            "172/172 [==============================] - 10s 56ms/step - loss: 1.4788 - accuracy: 0.3561 - val_loss: 1.4527 - val_accuracy: 0.3653\n",
            "Epoch 22/200\n",
            "172/172 [==============================] - 10s 56ms/step - loss: 1.4687 - accuracy: 0.3686 - val_loss: 1.4513 - val_accuracy: 0.3801\n",
            "Epoch 23/200\n",
            "172/172 [==============================] - 10s 56ms/step - loss: 1.4662 - accuracy: 0.3748 - val_loss: 1.4456 - val_accuracy: 0.3822\n",
            "Epoch 24/200\n",
            "172/172 [==============================] - 10s 56ms/step - loss: 1.4564 - accuracy: 0.3800 - val_loss: 1.4355 - val_accuracy: 0.3945\n",
            "Epoch 25/200\n",
            "172/172 [==============================] - 10s 56ms/step - loss: 1.4459 - accuracy: 0.3847 - val_loss: 1.4284 - val_accuracy: 0.3925\n",
            "Epoch 26/200\n",
            "172/172 [==============================] - 10s 56ms/step - loss: 1.4386 - accuracy: 0.3907 - val_loss: 1.4084 - val_accuracy: 0.4108\n",
            "Epoch 27/200\n",
            "172/172 [==============================] - 10s 56ms/step - loss: 1.4226 - accuracy: 0.4007 - val_loss: 1.3946 - val_accuracy: 0.4100\n",
            "Epoch 28/200\n",
            "172/172 [==============================] - 10s 56ms/step - loss: 1.4124 - accuracy: 0.4047 - val_loss: 1.3730 - val_accuracy: 0.4270\n",
            "Epoch 29/200\n",
            "172/172 [==============================] - 10s 56ms/step - loss: 1.4005 - accuracy: 0.4134 - val_loss: 1.3931 - val_accuracy: 0.4166\n",
            "Epoch 30/200\n",
            "172/172 [==============================] - 10s 55ms/step - loss: 1.3902 - accuracy: 0.4148 - val_loss: 1.3492 - val_accuracy: 0.4335\n",
            "Epoch 31/200\n",
            "172/172 [==============================] - 10s 56ms/step - loss: 1.3778 - accuracy: 0.4256 - val_loss: 1.3456 - val_accuracy: 0.4407\n",
            "Epoch 32/200\n",
            "172/172 [==============================] - 10s 56ms/step - loss: 1.3601 - accuracy: 0.4312 - val_loss: 1.3202 - val_accuracy: 0.4488\n",
            "Epoch 33/200\n",
            "172/172 [==============================] - 10s 56ms/step - loss: 1.3529 - accuracy: 0.4373 - val_loss: 1.3023 - val_accuracy: 0.4617\n",
            "Epoch 34/200\n",
            "172/172 [==============================] - 10s 56ms/step - loss: 1.3273 - accuracy: 0.4498 - val_loss: 1.2824 - val_accuracy: 0.4648\n",
            "Epoch 35/200\n",
            "172/172 [==============================] - 10s 56ms/step - loss: 1.3089 - accuracy: 0.4590 - val_loss: 1.2456 - val_accuracy: 0.4846\n",
            "Epoch 36/200\n",
            "172/172 [==============================] - 10s 56ms/step - loss: 1.2858 - accuracy: 0.4694 - val_loss: 1.2159 - val_accuracy: 0.5010\n",
            "Epoch 37/200\n",
            "172/172 [==============================] - 10s 56ms/step - loss: 1.2734 - accuracy: 0.4740 - val_loss: 1.1981 - val_accuracy: 0.5059\n",
            "Epoch 38/200\n",
            "172/172 [==============================] - 10s 56ms/step - loss: 1.2486 - accuracy: 0.4823 - val_loss: 1.1935 - val_accuracy: 0.5054\n",
            "Epoch 39/200\n",
            "172/172 [==============================] - 10s 56ms/step - loss: 1.2215 - accuracy: 0.4977 - val_loss: 1.1465 - val_accuracy: 0.5311\n",
            "Epoch 40/200\n",
            "172/172 [==============================] - 10s 56ms/step - loss: 1.2005 - accuracy: 0.5073 - val_loss: 1.1204 - val_accuracy: 0.5339\n",
            "Epoch 41/200\n",
            "172/172 [==============================] - 10s 56ms/step - loss: 1.1840 - accuracy: 0.5170 - val_loss: 1.1133 - val_accuracy: 0.5484\n",
            "Epoch 42/200\n",
            "172/172 [==============================] - 10s 56ms/step - loss: 1.1579 - accuracy: 0.5287 - val_loss: 1.0882 - val_accuracy: 0.5564\n",
            "Epoch 43/200\n",
            "172/172 [==============================] - 10s 56ms/step - loss: 1.1271 - accuracy: 0.5395 - val_loss: 1.0523 - val_accuracy: 0.5707\n",
            "Epoch 44/200\n",
            "172/172 [==============================] - 10s 56ms/step - loss: 1.1109 - accuracy: 0.5483 - val_loss: 1.0099 - val_accuracy: 0.5902\n",
            "Epoch 45/200\n",
            "172/172 [==============================] - 10s 56ms/step - loss: 1.0887 - accuracy: 0.5569 - val_loss: 0.9985 - val_accuracy: 0.5914\n",
            "Epoch 46/200\n",
            "172/172 [==============================] - 10s 55ms/step - loss: 1.0621 - accuracy: 0.5692 - val_loss: 1.0143 - val_accuracy: 0.5895\n",
            "Epoch 47/200\n",
            "172/172 [==============================] - 10s 56ms/step - loss: 1.0432 - accuracy: 0.5797 - val_loss: 0.9772 - val_accuracy: 0.6101\n",
            "Epoch 48/200\n",
            "172/172 [==============================] - 10s 56ms/step - loss: 1.0257 - accuracy: 0.5901 - val_loss: 0.9651 - val_accuracy: 0.6130\n",
            "Epoch 49/200\n",
            "172/172 [==============================] - 10s 56ms/step - loss: 0.9982 - accuracy: 0.6013 - val_loss: 0.9213 - val_accuracy: 0.6318\n",
            "Epoch 50/200\n",
            "172/172 [==============================] - 10s 55ms/step - loss: 0.9757 - accuracy: 0.6106 - val_loss: 0.8998 - val_accuracy: 0.6445\n",
            "Epoch 51/200\n",
            "172/172 [==============================] - 10s 56ms/step - loss: 0.9624 - accuracy: 0.6138 - val_loss: 0.8850 - val_accuracy: 0.6434\n",
            "Epoch 52/200\n",
            "172/172 [==============================] - 10s 56ms/step - loss: 0.9305 - accuracy: 0.6281 - val_loss: 0.8561 - val_accuracy: 0.6602\n",
            "Epoch 53/200\n",
            "172/172 [==============================] - 10s 56ms/step - loss: 0.9145 - accuracy: 0.6367 - val_loss: 0.8593 - val_accuracy: 0.6579\n",
            "Epoch 54/200\n",
            "172/172 [==============================] - 10s 56ms/step - loss: 0.8998 - accuracy: 0.6418 - val_loss: 0.8375 - val_accuracy: 0.6707\n",
            "Epoch 55/200\n",
            "172/172 [==============================] - 10s 56ms/step - loss: 0.8749 - accuracy: 0.6533 - val_loss: 0.8098 - val_accuracy: 0.6761\n",
            "Epoch 56/200\n",
            "172/172 [==============================] - 10s 56ms/step - loss: 0.8655 - accuracy: 0.6546 - val_loss: 0.8003 - val_accuracy: 0.6819\n",
            "Epoch 57/200\n",
            "172/172 [==============================] - 10s 56ms/step - loss: 0.8501 - accuracy: 0.6622 - val_loss: 0.7706 - val_accuracy: 0.6953\n",
            "Epoch 58/200\n",
            "172/172 [==============================] - 10s 56ms/step - loss: 0.8150 - accuracy: 0.6786 - val_loss: 0.7515 - val_accuracy: 0.7053\n",
            "Epoch 59/200\n",
            "172/172 [==============================] - 10s 56ms/step - loss: 0.8149 - accuracy: 0.6790 - val_loss: 0.7531 - val_accuracy: 0.7026\n",
            "Epoch 60/200\n",
            "172/172 [==============================] - 10s 56ms/step - loss: 0.7886 - accuracy: 0.6884 - val_loss: 0.7554 - val_accuracy: 0.7038\n",
            "Epoch 61/200\n",
            "172/172 [==============================] - 10s 56ms/step - loss: 0.7650 - accuracy: 0.6995 - val_loss: 0.7153 - val_accuracy: 0.7218\n",
            "Epoch 62/200\n",
            "172/172 [==============================] - 10s 56ms/step - loss: 0.7652 - accuracy: 0.7006 - val_loss: 0.6983 - val_accuracy: 0.7259\n",
            "Epoch 63/200\n",
            "172/172 [==============================] - 10s 56ms/step - loss: 0.7452 - accuracy: 0.7077 - val_loss: 0.7125 - val_accuracy: 0.7199\n",
            "Epoch 64/200\n",
            "172/172 [==============================] - 10s 56ms/step - loss: 0.7367 - accuracy: 0.7113 - val_loss: 0.6816 - val_accuracy: 0.7339\n",
            "Epoch 65/200\n",
            "172/172 [==============================] - 10s 56ms/step - loss: 0.7286 - accuracy: 0.7159 - val_loss: 0.6777 - val_accuracy: 0.7329\n",
            "Epoch 66/200\n",
            "172/172 [==============================] - 10s 56ms/step - loss: 0.7102 - accuracy: 0.7212 - val_loss: 0.6948 - val_accuracy: 0.7309\n",
            "Epoch 67/200\n",
            "172/172 [==============================] - 10s 56ms/step - loss: 0.7010 - accuracy: 0.7256 - val_loss: 0.6621 - val_accuracy: 0.7421\n",
            "Epoch 68/200\n",
            "172/172 [==============================] - 10s 55ms/step - loss: 0.6963 - accuracy: 0.7271 - val_loss: 0.6734 - val_accuracy: 0.7403\n",
            "Epoch 69/200\n",
            "172/172 [==============================] - 10s 56ms/step - loss: 0.6739 - accuracy: 0.7349 - val_loss: 0.6609 - val_accuracy: 0.7447\n",
            "Epoch 70/200\n",
            "172/172 [==============================] - 10s 56ms/step - loss: 0.6684 - accuracy: 0.7365 - val_loss: 0.6413 - val_accuracy: 0.7524\n",
            "Epoch 71/200\n",
            "172/172 [==============================] - 10s 56ms/step - loss: 0.6655 - accuracy: 0.7397 - val_loss: 0.6549 - val_accuracy: 0.7472\n",
            "Epoch 72/200\n",
            "172/172 [==============================] - 10s 56ms/step - loss: 0.6513 - accuracy: 0.7445 - val_loss: 0.6024 - val_accuracy: 0.7672\n",
            "Epoch 73/200\n",
            "172/172 [==============================] - 10s 56ms/step - loss: 0.6439 - accuracy: 0.7484 - val_loss: 0.6155 - val_accuracy: 0.7637\n",
            "Epoch 74/200\n",
            "172/172 [==============================] - 10s 56ms/step - loss: 0.6443 - accuracy: 0.7488 - val_loss: 0.6535 - val_accuracy: 0.7524\n",
            "Epoch 75/200\n",
            "172/172 [==============================] - 10s 55ms/step - loss: 0.6266 - accuracy: 0.7556 - val_loss: 0.6333 - val_accuracy: 0.7625\n",
            "Epoch 76/200\n",
            "172/172 [==============================] - 10s 56ms/step - loss: 0.6244 - accuracy: 0.7556 - val_loss: 0.6128 - val_accuracy: 0.7648\n",
            "Epoch 77/200\n",
            "172/172 [==============================] - 10s 55ms/step - loss: 0.6187 - accuracy: 0.7610 - val_loss: 0.6030 - val_accuracy: 0.7720\n",
            "Epoch 78/200\n",
            "172/172 [==============================] - 10s 56ms/step - loss: 0.6045 - accuracy: 0.7651 - val_loss: 0.5822 - val_accuracy: 0.7774\n",
            "Epoch 79/200\n",
            "172/172 [==============================] - 10s 56ms/step - loss: 0.5954 - accuracy: 0.7684 - val_loss: 0.5960 - val_accuracy: 0.7763\n",
            "Epoch 80/200\n",
            "172/172 [==============================] - 10s 56ms/step - loss: 0.5874 - accuracy: 0.7708 - val_loss: 0.5826 - val_accuracy: 0.7746\n",
            "Epoch 81/200\n",
            "172/172 [==============================] - 10s 55ms/step - loss: 0.5791 - accuracy: 0.7765 - val_loss: 0.5869 - val_accuracy: 0.7751\n",
            "Epoch 82/200\n",
            "172/172 [==============================] - 10s 56ms/step - loss: 0.5684 - accuracy: 0.7796 - val_loss: 0.5685 - val_accuracy: 0.7844\n",
            "Epoch 83/200\n",
            "172/172 [==============================] - 10s 55ms/step - loss: 0.5679 - accuracy: 0.7825 - val_loss: 0.5753 - val_accuracy: 0.7865\n",
            "Epoch 84/200\n",
            "172/172 [==============================] - 10s 56ms/step - loss: 0.5698 - accuracy: 0.7804 - val_loss: 0.5661 - val_accuracy: 0.7837\n",
            "Epoch 85/200\n",
            "172/172 [==============================] - 10s 56ms/step - loss: 0.5565 - accuracy: 0.7852 - val_loss: 0.6095 - val_accuracy: 0.7739\n",
            "Epoch 86/200\n",
            "172/172 [==============================] - 10s 56ms/step - loss: 0.5565 - accuracy: 0.7853 - val_loss: 0.5580 - val_accuracy: 0.7882\n",
            "Epoch 87/200\n",
            "172/172 [==============================] - 10s 56ms/step - loss: 0.5405 - accuracy: 0.7912 - val_loss: 0.5554 - val_accuracy: 0.7962\n",
            "Epoch 88/200\n",
            "172/172 [==============================] - 10s 56ms/step - loss: 0.5424 - accuracy: 0.7921 - val_loss: 0.5606 - val_accuracy: 0.7925\n",
            "Epoch 89/200\n",
            "172/172 [==============================] - 10s 56ms/step - loss: 0.5358 - accuracy: 0.7972 - val_loss: 0.5540 - val_accuracy: 0.7949\n",
            "Epoch 90/200\n",
            "172/172 [==============================] - 10s 56ms/step - loss: 0.5303 - accuracy: 0.7974 - val_loss: 0.5366 - val_accuracy: 0.8037\n",
            "Epoch 91/200\n",
            "172/172 [==============================] - 10s 56ms/step - loss: 0.5402 - accuracy: 0.7950 - val_loss: 0.5737 - val_accuracy: 0.7949\n",
            "Epoch 92/200\n",
            "172/172 [==============================] - 10s 56ms/step - loss: 0.5333 - accuracy: 0.7971 - val_loss: 0.5588 - val_accuracy: 0.7968\n",
            "Epoch 93/200\n",
            "172/172 [==============================] - 10s 56ms/step - loss: 0.5149 - accuracy: 0.8040 - val_loss: 0.5536 - val_accuracy: 0.7945\n",
            "Epoch 94/200\n",
            "172/172 [==============================] - 10s 56ms/step - loss: 0.5102 - accuracy: 0.8072 - val_loss: 0.5423 - val_accuracy: 0.8023\n",
            "Epoch 95/200\n",
            "172/172 [==============================] - 10s 56ms/step - loss: 0.4976 - accuracy: 0.8097 - val_loss: 0.5226 - val_accuracy: 0.8081\n",
            "Epoch 96/200\n",
            "172/172 [==============================] - 10s 55ms/step - loss: 0.4948 - accuracy: 0.8117 - val_loss: 0.5203 - val_accuracy: 0.8092\n",
            "Epoch 97/200\n",
            "172/172 [==============================] - 10s 56ms/step - loss: 0.4815 - accuracy: 0.8158 - val_loss: 0.5525 - val_accuracy: 0.8079\n",
            "Epoch 98/200\n",
            "172/172 [==============================] - 10s 56ms/step - loss: 0.4995 - accuracy: 0.8118 - val_loss: 0.5313 - val_accuracy: 0.8061\n",
            "Epoch 99/200\n",
            "172/172 [==============================] - 10s 56ms/step - loss: 0.4778 - accuracy: 0.8188 - val_loss: 0.5069 - val_accuracy: 0.8156\n",
            "Epoch 100/200\n",
            "172/172 [==============================] - 10s 56ms/step - loss: 0.4779 - accuracy: 0.8181 - val_loss: 0.5141 - val_accuracy: 0.8180\n",
            "Epoch 101/200\n",
            "172/172 [==============================] - 10s 56ms/step - loss: 0.4658 - accuracy: 0.8232 - val_loss: 0.5310 - val_accuracy: 0.8146\n",
            "Epoch 102/200\n",
            "172/172 [==============================] - 10s 56ms/step - loss: 0.4716 - accuracy: 0.8236 - val_loss: 0.5342 - val_accuracy: 0.8058\n",
            "Epoch 103/200\n",
            "172/172 [==============================] - 10s 56ms/step - loss: 0.4821 - accuracy: 0.8174 - val_loss: 0.5162 - val_accuracy: 0.8201\n",
            "Epoch 104/200\n",
            "172/172 [==============================] - 10s 56ms/step - loss: 0.4673 - accuracy: 0.8241 - val_loss: 0.4979 - val_accuracy: 0.8258\n",
            "Epoch 105/200\n",
            "172/172 [==============================] - 10s 55ms/step - loss: 0.4604 - accuracy: 0.8243 - val_loss: 0.4808 - val_accuracy: 0.8316\n",
            "Epoch 106/200\n",
            "172/172 [==============================] - 10s 55ms/step - loss: 0.4473 - accuracy: 0.8303 - val_loss: 0.5078 - val_accuracy: 0.8270\n",
            "Epoch 107/200\n",
            "172/172 [==============================] - 10s 56ms/step - loss: 0.4482 - accuracy: 0.8328 - val_loss: 0.4950 - val_accuracy: 0.8269\n",
            "Epoch 108/200\n",
            "172/172 [==============================] - 9s 55ms/step - loss: 0.4608 - accuracy: 0.8269 - val_loss: 0.4881 - val_accuracy: 0.8336\n",
            "Epoch 109/200\n",
            "172/172 [==============================] - 10s 56ms/step - loss: 0.4508 - accuracy: 0.8305 - val_loss: 0.5023 - val_accuracy: 0.8221\n",
            "Epoch 110/200\n",
            "172/172 [==============================] - 10s 55ms/step - loss: 0.4416 - accuracy: 0.8344 - val_loss: 0.4915 - val_accuracy: 0.8284\n",
            "Epoch 111/200\n",
            "172/172 [==============================] - 10s 56ms/step - loss: 0.4299 - accuracy: 0.8393 - val_loss: 0.4873 - val_accuracy: 0.8320\n",
            "Epoch 112/200\n",
            "172/172 [==============================] - 10s 56ms/step - loss: 0.4465 - accuracy: 0.8345 - val_loss: 0.5304 - val_accuracy: 0.8217\n",
            "Epoch 113/200\n",
            "172/172 [==============================] - 10s 56ms/step - loss: 0.4415 - accuracy: 0.8353 - val_loss: 0.5091 - val_accuracy: 0.8240\n",
            "Epoch 114/200\n",
            "172/172 [==============================] - 10s 56ms/step - loss: 0.4280 - accuracy: 0.8408 - val_loss: 0.5004 - val_accuracy: 0.8285\n",
            "Epoch 115/200\n",
            "172/172 [==============================] - 10s 56ms/step - loss: 0.4296 - accuracy: 0.8399 - val_loss: 0.4921 - val_accuracy: 0.8315\n",
            "Epoch 116/200\n",
            "172/172 [==============================] - 10s 56ms/step - loss: 0.4211 - accuracy: 0.8422 - val_loss: 0.4933 - val_accuracy: 0.8311\n",
            "Epoch 117/200\n",
            "172/172 [==============================] - 10s 56ms/step - loss: 0.4180 - accuracy: 0.8441 - val_loss: 0.5341 - val_accuracy: 0.8137\n",
            "Epoch 118/200\n",
            "172/172 [==============================] - 10s 56ms/step - loss: 0.4205 - accuracy: 0.8431 - val_loss: 0.5048 - val_accuracy: 0.8348\n",
            "Epoch 119/200\n",
            "172/172 [==============================] - 10s 56ms/step - loss: 0.4095 - accuracy: 0.8487 - val_loss: 0.4786 - val_accuracy: 0.8362\n",
            "Epoch 120/200\n",
            "172/172 [==============================] - 10s 56ms/step - loss: 0.3995 - accuracy: 0.8511 - val_loss: 0.4860 - val_accuracy: 0.8417\n",
            "Epoch 121/200\n",
            "172/172 [==============================] - 10s 56ms/step - loss: 0.4013 - accuracy: 0.8509 - val_loss: 0.4767 - val_accuracy: 0.8408\n",
            "Epoch 122/200\n",
            "172/172 [==============================] - 10s 55ms/step - loss: 0.4012 - accuracy: 0.8525 - val_loss: 0.4792 - val_accuracy: 0.8443\n",
            "Epoch 123/200\n",
            "172/172 [==============================] - 10s 56ms/step - loss: 0.4107 - accuracy: 0.8477 - val_loss: 0.4784 - val_accuracy: 0.8395\n",
            "Epoch 124/200\n",
            "172/172 [==============================] - 10s 56ms/step - loss: 0.4067 - accuracy: 0.8506 - val_loss: 0.4764 - val_accuracy: 0.8399\n",
            "Epoch 125/200\n",
            "172/172 [==============================] - 10s 55ms/step - loss: 0.3960 - accuracy: 0.8535 - val_loss: 0.4680 - val_accuracy: 0.8431\n",
            "Epoch 126/200\n",
            "172/172 [==============================] - 10s 55ms/step - loss: 0.3991 - accuracy: 0.8540 - val_loss: 0.4385 - val_accuracy: 0.8518\n",
            "Epoch 127/200\n",
            "172/172 [==============================] - 9s 55ms/step - loss: 0.3862 - accuracy: 0.8589 - val_loss: 0.4709 - val_accuracy: 0.8456\n",
            "Epoch 128/200\n",
            "172/172 [==============================] - 10s 56ms/step - loss: 0.3728 - accuracy: 0.8608 - val_loss: 0.4547 - val_accuracy: 0.8505\n",
            "Epoch 129/200\n",
            "172/172 [==============================] - 10s 56ms/step - loss: 0.4014 - accuracy: 0.8495 - val_loss: 0.4766 - val_accuracy: 0.8450\n",
            "Epoch 130/200\n",
            "172/172 [==============================] - 10s 56ms/step - loss: 0.3859 - accuracy: 0.8593 - val_loss: 0.4831 - val_accuracy: 0.8452\n",
            "Epoch 131/200\n",
            "172/172 [==============================] - 10s 56ms/step - loss: 0.3811 - accuracy: 0.8614 - val_loss: 0.4732 - val_accuracy: 0.8430\n",
            "Epoch 132/200\n",
            "172/172 [==============================] - 10s 56ms/step - loss: 0.3732 - accuracy: 0.8621 - val_loss: 0.4435 - val_accuracy: 0.8553\n",
            "Epoch 133/200\n",
            "172/172 [==============================] - 10s 56ms/step - loss: 0.3769 - accuracy: 0.8618 - val_loss: 0.4505 - val_accuracy: 0.8563\n",
            "Epoch 134/200\n",
            "172/172 [==============================] - 10s 56ms/step - loss: 0.3709 - accuracy: 0.8644 - val_loss: 0.4581 - val_accuracy: 0.8505\n",
            "Epoch 135/200\n",
            "172/172 [==============================] - 10s 55ms/step - loss: 0.3648 - accuracy: 0.8664 - val_loss: 0.4515 - val_accuracy: 0.8538\n",
            "Epoch 136/200\n",
            "172/172 [==============================] - 10s 56ms/step - loss: 0.3739 - accuracy: 0.8641 - val_loss: 0.4455 - val_accuracy: 0.8577\n",
            "Epoch 137/200\n",
            "172/172 [==============================] - 10s 56ms/step - loss: 0.3663 - accuracy: 0.8663 - val_loss: 0.4741 - val_accuracy: 0.8503\n",
            "Epoch 138/200\n",
            "172/172 [==============================] - 10s 56ms/step - loss: 0.3664 - accuracy: 0.8662 - val_loss: 0.4588 - val_accuracy: 0.8495\n",
            "Epoch 139/200\n",
            "172/172 [==============================] - 10s 56ms/step - loss: 0.3541 - accuracy: 0.8707 - val_loss: 0.4549 - val_accuracy: 0.8531\n",
            "Epoch 140/200\n",
            "172/172 [==============================] - 10s 56ms/step - loss: 0.3544 - accuracy: 0.8713 - val_loss: 0.4860 - val_accuracy: 0.8447\n",
            "Epoch 141/200\n",
            "172/172 [==============================] - 10s 56ms/step - loss: 0.3577 - accuracy: 0.8692 - val_loss: 0.4561 - val_accuracy: 0.8577\n",
            "Epoch 142/200\n",
            "172/172 [==============================] - 10s 55ms/step - loss: 0.3531 - accuracy: 0.8721 - val_loss: 0.4504 - val_accuracy: 0.8582\n",
            "Epoch 143/200\n",
            "172/172 [==============================] - 10s 56ms/step - loss: 0.3449 - accuracy: 0.8754 - val_loss: 0.4495 - val_accuracy: 0.8557\n",
            "Epoch 144/200\n",
            "172/172 [==============================] - 10s 56ms/step - loss: 0.3494 - accuracy: 0.8727 - val_loss: 0.4369 - val_accuracy: 0.8610\n",
            "Epoch 145/200\n",
            "172/172 [==============================] - 10s 55ms/step - loss: 0.3374 - accuracy: 0.8774 - val_loss: 0.4413 - val_accuracy: 0.8593\n",
            "Epoch 146/200\n",
            "172/172 [==============================] - 10s 56ms/step - loss: 0.3458 - accuracy: 0.8760 - val_loss: 0.4694 - val_accuracy: 0.8551\n",
            "Epoch 147/200\n",
            "172/172 [==============================] - 10s 56ms/step - loss: 0.3509 - accuracy: 0.8739 - val_loss: 0.4650 - val_accuracy: 0.8565\n",
            "Epoch 148/200\n",
            "172/172 [==============================] - 10s 56ms/step - loss: 0.3325 - accuracy: 0.8793 - val_loss: 0.4395 - val_accuracy: 0.8584\n",
            "Epoch 149/200\n",
            "172/172 [==============================] - 10s 56ms/step - loss: 0.3318 - accuracy: 0.8795 - val_loss: 0.4320 - val_accuracy: 0.8667\n",
            "Epoch 150/200\n",
            "172/172 [==============================] - 10s 56ms/step - loss: 0.3374 - accuracy: 0.8769 - val_loss: 0.4735 - val_accuracy: 0.8537\n",
            "Epoch 151/200\n",
            "172/172 [==============================] - 10s 56ms/step - loss: 0.3426 - accuracy: 0.8757 - val_loss: 0.4551 - val_accuracy: 0.8563\n",
            "Epoch 152/200\n",
            "172/172 [==============================] - 10s 55ms/step - loss: 0.3415 - accuracy: 0.8765 - val_loss: 0.4483 - val_accuracy: 0.8611\n",
            "Epoch 153/200\n",
            "172/172 [==============================] - 10s 56ms/step - loss: 0.3209 - accuracy: 0.8836 - val_loss: 0.4428 - val_accuracy: 0.8650\n",
            "Epoch 154/200\n",
            "172/172 [==============================] - 10s 56ms/step - loss: 0.3202 - accuracy: 0.8835 - val_loss: 0.4168 - val_accuracy: 0.8682\n",
            "Epoch 155/200\n",
            "172/172 [==============================] - 10s 56ms/step - loss: 0.3085 - accuracy: 0.8880 - val_loss: 0.4373 - val_accuracy: 0.8623\n",
            "Epoch 156/200\n",
            "172/172 [==============================] - 10s 56ms/step - loss: 0.3316 - accuracy: 0.8805 - val_loss: 0.4157 - val_accuracy: 0.8663\n",
            "Epoch 157/200\n",
            "172/172 [==============================] - 10s 56ms/step - loss: 0.3199 - accuracy: 0.8842 - val_loss: 0.4287 - val_accuracy: 0.8723\n",
            "Epoch 158/200\n",
            "172/172 [==============================] - 10s 56ms/step - loss: 0.3148 - accuracy: 0.8869 - val_loss: 0.4678 - val_accuracy: 0.8673\n",
            "Epoch 159/200\n",
            "172/172 [==============================] - 10s 56ms/step - loss: 0.3184 - accuracy: 0.8842 - val_loss: 0.4529 - val_accuracy: 0.8645\n",
            "Epoch 160/200\n",
            "172/172 [==============================] - 10s 56ms/step - loss: 0.3099 - accuracy: 0.8887 - val_loss: 0.4528 - val_accuracy: 0.8649\n",
            "Epoch 161/200\n",
            "172/172 [==============================] - 10s 56ms/step - loss: 0.3125 - accuracy: 0.8881 - val_loss: 0.4298 - val_accuracy: 0.8696\n",
            "Epoch 162/200\n",
            "172/172 [==============================] - 10s 56ms/step - loss: 0.3051 - accuracy: 0.8890 - val_loss: 0.4214 - val_accuracy: 0.8728\n",
            "Epoch 163/200\n",
            "172/172 [==============================] - 10s 56ms/step - loss: 0.3077 - accuracy: 0.8889 - val_loss: 0.4112 - val_accuracy: 0.8714\n",
            "Epoch 164/200\n",
            "172/172 [==============================] - 10s 56ms/step - loss: 0.3067 - accuracy: 0.8895 - val_loss: 0.4303 - val_accuracy: 0.8678\n",
            "Epoch 165/200\n",
            "172/172 [==============================] - 10s 56ms/step - loss: 0.3085 - accuracy: 0.8900 - val_loss: 0.4532 - val_accuracy: 0.8650\n",
            "Epoch 166/200\n",
            "172/172 [==============================] - 10s 56ms/step - loss: 0.3043 - accuracy: 0.8905 - val_loss: 0.4300 - val_accuracy: 0.8712\n",
            "Epoch 167/200\n",
            "172/172 [==============================] - 10s 56ms/step - loss: 0.2982 - accuracy: 0.8946 - val_loss: 0.4223 - val_accuracy: 0.8761\n",
            "Epoch 168/200\n",
            "172/172 [==============================] - 10s 56ms/step - loss: 0.3079 - accuracy: 0.8910 - val_loss: 0.4356 - val_accuracy: 0.8691\n",
            "Epoch 169/200\n",
            "172/172 [==============================] - 10s 56ms/step - loss: 0.3035 - accuracy: 0.8923 - val_loss: 0.4236 - val_accuracy: 0.8718\n",
            "Epoch 170/200\n",
            "172/172 [==============================] - 10s 56ms/step - loss: 0.2860 - accuracy: 0.8990 - val_loss: 0.4262 - val_accuracy: 0.8709\n",
            "Epoch 171/200\n",
            "172/172 [==============================] - 10s 56ms/step - loss: 0.2989 - accuracy: 0.8934 - val_loss: 0.4232 - val_accuracy: 0.8746\n",
            "Epoch 172/200\n",
            "172/172 [==============================] - 10s 56ms/step - loss: 0.2925 - accuracy: 0.8963 - val_loss: 0.4304 - val_accuracy: 0.8740\n",
            "Epoch 173/200\n",
            "172/172 [==============================] - 10s 55ms/step - loss: 0.3022 - accuracy: 0.8922 - val_loss: 0.4278 - val_accuracy: 0.8732\n",
            "Epoch 174/200\n",
            "172/172 [==============================] - 10s 56ms/step - loss: 0.2775 - accuracy: 0.9016 - val_loss: 0.4324 - val_accuracy: 0.8762\n",
            "Epoch 175/200\n",
            "172/172 [==============================] - 10s 56ms/step - loss: 0.2815 - accuracy: 0.9001 - val_loss: 0.4199 - val_accuracy: 0.8738\n",
            "Epoch 176/200\n",
            "172/172 [==============================] - 10s 56ms/step - loss: 0.2814 - accuracy: 0.8996 - val_loss: 0.4408 - val_accuracy: 0.8714\n",
            "Epoch 177/200\n",
            "172/172 [==============================] - 10s 55ms/step - loss: 0.2878 - accuracy: 0.8983 - val_loss: 0.4142 - val_accuracy: 0.8761\n",
            "Epoch 178/200\n",
            "172/172 [==============================] - 10s 56ms/step - loss: 0.2772 - accuracy: 0.9015 - val_loss: 0.4070 - val_accuracy: 0.8798\n",
            "Epoch 179/200\n",
            "172/172 [==============================] - 10s 55ms/step - loss: 0.2860 - accuracy: 0.8999 - val_loss: 0.4078 - val_accuracy: 0.8782\n",
            "Epoch 180/200\n",
            "172/172 [==============================] - 10s 56ms/step - loss: 0.2794 - accuracy: 0.9015 - val_loss: 0.4409 - val_accuracy: 0.8725\n",
            "Epoch 181/200\n",
            "172/172 [==============================] - 10s 56ms/step - loss: 0.2782 - accuracy: 0.9025 - val_loss: 0.4181 - val_accuracy: 0.8748\n",
            "Epoch 182/200\n",
            "172/172 [==============================] - 10s 56ms/step - loss: 0.2844 - accuracy: 0.8981 - val_loss: 0.3964 - val_accuracy: 0.8807\n",
            "Epoch 183/200\n",
            "172/172 [==============================] - 10s 56ms/step - loss: 0.2697 - accuracy: 0.9035 - val_loss: 0.4172 - val_accuracy: 0.8849\n",
            "Epoch 184/200\n",
            "172/172 [==============================] - 10s 56ms/step - loss: 0.2759 - accuracy: 0.9037 - val_loss: 0.4270 - val_accuracy: 0.8804\n",
            "Epoch 185/200\n",
            "172/172 [==============================] - 10s 56ms/step - loss: 0.2731 - accuracy: 0.9038 - val_loss: 0.4031 - val_accuracy: 0.8817\n",
            "Epoch 186/200\n",
            "172/172 [==============================] - 10s 56ms/step - loss: 0.2686 - accuracy: 0.9047 - val_loss: 0.4124 - val_accuracy: 0.8811\n",
            "Epoch 187/200\n",
            "172/172 [==============================] - 10s 56ms/step - loss: 0.2686 - accuracy: 0.9055 - val_loss: 0.4001 - val_accuracy: 0.8865\n",
            "Epoch 188/200\n",
            "172/172 [==============================] - 10s 56ms/step - loss: 0.2623 - accuracy: 0.9079 - val_loss: 0.4178 - val_accuracy: 0.8783\n",
            "Epoch 189/200\n",
            "172/172 [==============================] - 10s 56ms/step - loss: 0.2696 - accuracy: 0.9044 - val_loss: 0.4024 - val_accuracy: 0.8875\n",
            "Epoch 190/200\n",
            "172/172 [==============================] - 10s 56ms/step - loss: 0.2677 - accuracy: 0.9063 - val_loss: 0.4279 - val_accuracy: 0.8780\n",
            "Epoch 191/200\n",
            "172/172 [==============================] - 10s 56ms/step - loss: 0.2635 - accuracy: 0.9075 - val_loss: 0.3819 - val_accuracy: 0.8891\n",
            "Epoch 192/200\n",
            "172/172 [==============================] - 10s 55ms/step - loss: 0.2565 - accuracy: 0.9103 - val_loss: 0.4260 - val_accuracy: 0.8792\n",
            "Epoch 193/200\n",
            "172/172 [==============================] - 10s 55ms/step - loss: 0.2589 - accuracy: 0.9100 - val_loss: 0.4396 - val_accuracy: 0.8695\n",
            "Epoch 194/200\n",
            "172/172 [==============================] - 10s 56ms/step - loss: 0.2630 - accuracy: 0.9094 - val_loss: 0.4047 - val_accuracy: 0.8805\n",
            "Epoch 195/200\n",
            "172/172 [==============================] - 10s 56ms/step - loss: 0.2617 - accuracy: 0.9091 - val_loss: 0.3942 - val_accuracy: 0.8870\n",
            "Epoch 196/200\n",
            "172/172 [==============================] - 10s 56ms/step - loss: 0.2538 - accuracy: 0.9101 - val_loss: 0.4417 - val_accuracy: 0.8743\n",
            "Epoch 197/200\n",
            "172/172 [==============================] - 10s 56ms/step - loss: 0.2543 - accuracy: 0.9114 - val_loss: 0.4290 - val_accuracy: 0.8834\n",
            "Epoch 198/200\n",
            "172/172 [==============================] - 10s 56ms/step - loss: 0.2581 - accuracy: 0.9100 - val_loss: 0.3875 - val_accuracy: 0.8855\n",
            "Epoch 199/200\n",
            "172/172 [==============================] - 10s 56ms/step - loss: 0.2715 - accuracy: 0.9063 - val_loss: 0.3817 - val_accuracy: 0.8865\n",
            "Epoch 200/200\n",
            "172/172 [==============================] - 10s 56ms/step - loss: 0.2607 - accuracy: 0.9107 - val_loss: 0.3995 - val_accuracy: 0.8860\n"
          ],
          "name": "stdout"
        }
      ]
    },
    {
      "cell_type": "code",
      "metadata": {
        "id": "7sO_7Ov2MEzA",
        "colab_type": "code",
        "colab": {
          "base_uri": "https://localhost:8080/",
          "height": 67
        },
        "outputId": "9f3d67f6-fe68-4660-d27f-5e92985993f6"
      },
      "source": [
        "score = model.evaluate(x_test, y_test, verbose=1)\n",
        "print('Test loss:', score[0])\n",
        "print('Test accuracy:', score[1])"
      ],
      "execution_count": null,
      "outputs": [
        {
          "output_type": "stream",
          "text": [
            "458/458 [==============================] - 5s 10ms/step - loss: 0.3995 - accuracy: 0.8860\n",
            "Test loss: 0.39954838156700134\n",
            "Test accuracy: 0.8859972953796387\n"
          ],
          "name": "stdout"
        }
      ]
    },
    {
      "cell_type": "code",
      "metadata": {
        "id": "-efHnyavME21",
        "colab_type": "code",
        "colab": {
          "base_uri": "https://localhost:8080/",
          "height": 312
        },
        "outputId": "2050ace0-affd-4749-9956-4cc5a10040b1"
      },
      "source": [
        "import matplotlib.pyplot as plt\n",
        "print(m.history.keys())\n",
        "# summarize history for accuracy\n",
        "plt.plot(m.history['accuracy'])\n",
        "plt.plot(m.history['val_accuracy'])\n",
        "plt.title('model accuracy')\n",
        "plt.ylabel('accuracy')\n",
        "plt.xlabel('epoch')\n",
        "plt.legend(['train', 'test'], loc='upper left')\n",
        "plt.show()\n"
      ],
      "execution_count": null,
      "outputs": [
        {
          "output_type": "stream",
          "text": [
            "dict_keys(['loss', 'accuracy', 'val_loss', 'val_accuracy'])\n"
          ],
          "name": "stdout"
        },
        {
          "output_type": "display_data",
          "data": {
            "image/png": "[encoded data removed]",
            "text/plain": [
              "<Figure size 432x288 with 1 Axes>"
            ]
          },
          "metadata": {
            "tags": [],
            "needs_background": "light"
          }
        }
      ]
    },
    {
      "cell_type": "code",
      "metadata": {
        "id": "KOGAS8W-ME5i",
        "colab_type": "code",
        "colab": {
          "base_uri": "https://localhost:8080/",
          "height": 295
        },
        "outputId": "116e0cce-bee4-4a09-cfad-85949f8501c3"
      },
      "source": [
        "# summarize history for loss\n",
        "plt.plot(m.history['loss'])\n",
        "plt.plot(m.history['val_loss'])\n",
        "plt.title('model loss')\n",
        "plt.ylabel('loss')\n",
        "plt.xlabel('epoch')\n",
        "plt.legend(['train', 'test'], loc='upper left')\n",
        "plt.show()"
      ],
      "execution_count": null,
      "outputs": [
        {
          "output_type": "display_data",
          "data": {
            "image/png": "[encoded data removed]",
            "text/plain": [
              "<Figure size 432x288 with 1 Axes>"
            ]
          },
          "metadata": {
            "tags": [],
            "needs_background": "light"
          }
        }
      ]
    },
    {
      "cell_type": "code",
      "metadata": {
        "id": "al-HTvN0ME87",
        "colab_type": "code",
        "colab": {
          "base_uri": "https://localhost:8080/",
          "height": 295
        },
        "outputId": "64cc374d-598f-404a-dc0a-4a460d548e2d"
      },
      "source": [
        "plt.plot(m.history['val_accuracy'])\n",
        "plt.plot(m.history['val_loss'])\n",
        "plt.title('test model')\n",
        "plt.ylabel('test accuracy')\n",
        "plt.xlabel('test loss')\n",
        "plt.show()"
      ],
      "execution_count": null,
      "outputs": [
        {
          "output_type": "display_data",
          "data": {
            "image/png": "[encoded data removed]",
            "text/plain": [
              "<Figure size 432x288 with 1 Axes>"
            ]
          },
          "metadata": {
            "tags": [],
            "needs_background": "light"
          }
        }
      ]
    },
    {
      "cell_type": "code",
      "metadata": {
        "id": "nDZKzIL3ME_t",
        "colab_type": "code",
        "colab": {}
      },
      "source": [
        "M=m"
      ],
      "execution_count": null,
      "outputs": []
    },
    {
      "cell_type": "code",
      "metadata": {
        "id": "7yOindOjMFDJ",
        "colab_type": "code",
        "colab": {
          "base_uri": "https://localhost:8080/",
          "height": 599
        },
        "outputId": "85967aef-bd79-443d-ca80-2ad968f7d176"
      },
      "source": [
        "y_pred=model.predict_classes(x_test)\n",
        "from sklearn.metrics import confusion_matrix\n",
        "import numpy as np\n",
        "y_test=np.argmax(y_test, axis=1)\n",
        "cmatrix=confusion_matrix(y_test, y_pred)\n",
        "import seaborn as sns\n",
        "figure = plt.figure(figsize=(8, 8))\n",
        "sns.heatmap(cmatrix, annot=True,cmap=plt.cm.Blues)\n",
        "plt.tight_layout()\n",
        "plt.ylabel('True label')\n",
        "plt.xlabel('Predicted label')\n",
        "plt.show()"
      ],
      "execution_count": null,
      "outputs": [
        {
          "output_type": "display_data",
          "data": {
            "image/png": "[encoded data removed]",
            "text/plain": [
              "<Figure size 576x576 with 2 Axes>"
            ]
          },
          "metadata": {
            "tags": [],
            "needs_background": "light"
          }
        }
      ]
    },
    {
      "cell_type": "code",
      "metadata": {
        "id": "u-sVlJy1P4Bu",
        "colab_type": "code",
        "colab": {}
      },
      "source": [
        "# Load the library\n",
        "from tensorflow.keras.models import load_model\n",
        "# Save the model using TensorFlow SavedModel format\n",
        "model.save('/content/drive/My Drive/LEADING_AI/70_30/fft_lstm_75-25_model_liking.h5')"
      ],
      "execution_count": null,
      "outputs": []
    },
    {
      "cell_type": "code",
      "metadata": {
        "id": "ffjbx3-SQZNM",
        "colab_type": "code",
        "colab": {}
      },
      "source": [
        ""
      ],
      "execution_count": null,
      "outputs": []
    }
  ]
}
